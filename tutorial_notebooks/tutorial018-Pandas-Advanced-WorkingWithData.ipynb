{
 "cells": [
  {
   "cell_type": "markdown",
   "metadata": {},
   "source": [
    "# Pandas, indexing and other advanced data manipulation features"
   ]
  },
  {
   "cell_type": "markdown",
   "metadata": {},
   "source": [
    "The past few tutorials were focussed on `Pandas`. We met some of the basic data structures in pandas.\n",
    "\n",
    "Basic pandas objects:\n",
    "\n",
    "* Index\n",
    "* Series\n",
    "* Data Frame\n",
    "\n",
    "We also learned how these three things are related. Namely, we can think of a pandas `DataFrame` as being composed of several *named columns*, each of which is like a `Series`, and a special `Index` column along the left-hand side.\n",
    "\n",
    "This tutorial focuses on more advanced `pandas` options to accessing, addressing (indexing) and manipulating data."
   ]
  },
  {
   "cell_type": "markdown",
   "metadata": {},
   "source": [
    "### Learning goals:\n",
    "\n",
    "* advanced pandas objects methods – the \"verbs\" that make them do useful things\n",
    "* indexing and accessing row/column subsets fo data\n",
    "* grouped data: aggregation and pivot tables"
   ]
  },
  {
   "cell_type": "markdown",
   "metadata": {},
   "source": [
    "## Make a data frame to play with"
   ]
  },
  {
   "cell_type": "markdown",
   "metadata": {},
   "source": [
    "To get started this time instead of loading data from file, we will build a little data frame and take look at it to remind ourselves of this structure. We'll build a data frame similar to a data set mentioned in a previosu tutorial."
   ]
  },
  {
   "cell_type": "markdown",
   "metadata": {},
   "source": [
    "First, import `pandas` because of course, and `numpy` in order to simulate some data."
   ]
  },
  {
   "cell_type": "code",
   "execution_count": 1,
   "metadata": {},
   "outputs": [],
   "source": [
    "import pandas as pd    \n",
    "import numpy as np     # to make the simulated data"
   ]
  },
  {
   "cell_type": "markdown",
   "metadata": {},
   "source": [
    "Now we can make the data frame. It will have 4 variables of cardiovascular data for a number of patients (the number of patiencts can be specified):\n",
    "\n",
    "  * systolic blood pressure\n",
    "  * diastolic blood pressure\n",
    "  * blood oxygenation\n",
    "  * pulse rate\n",
    "\n",
    "Given that Pandas `DataFrame`s have a special `index` column, we'll just use the `index` as \"patient ID\" instead of making a fifth variable dedicated to it."
   ]
  },
  {
   "cell_type": "code",
   "execution_count": 2,
   "metadata": {},
   "outputs": [],
   "source": [
    "num_patients = 10    # specify the number of patients"
   ]
  },
  {
   "cell_type": "markdown",
   "metadata": {},
   "source": [
    "We will use `Numpy` to simulate data by choosing a mean for each variable and a standard deviation. More specifically, the systolic blood pressure will have a mean of `125` and a standard deviation of `5`. The diastolic pressure will have a lower mean (`80`) but the same standard deviation, the blood oxygenation will have a mean of `98.5` and a smaller standard deviation of `0.3`. Finally, the pulse rate will have a mean of `65` abd a standard deviation of `2`."
   ]
  },
  {
   "cell_type": "code",
   "execution_count": 3,
   "metadata": {},
   "outputs": [],
   "source": [
    "sys_bp = np.int64(125  + 5*np.random.randn(num_patients,))\n",
    "dia_bp = np.int64(80   + 5*np.random.randn(num_patients,))\n",
    "b_oxy  = np.round(98.5 + 0.3*np.random.randn(num_patients,), 2)\n",
    "pulse  = np.int64(65   + 2*np.random.randn(num_patients,))"
   ]
  },
  {
   "cell_type": "markdown",
   "metadata": {},
   "source": [
    "We will build the data frame using a dictionary:"
   ]
  },
  {
   "cell_type": "code",
   "execution_count": 4,
   "metadata": {},
   "outputs": [],
   "source": [
    "# Make a dictionary with a \"key\" for each variable name, and \n",
    "# the \"values\" being the num_patients long data vectors\n",
    "df_dict = {'systolic BP' : sys_bp,\n",
    "           'diastolic BP' : dia_bp,\n",
    "           'blood oxygenation' : b_oxy,\n",
    "           'pulse rate' : pulse\n",
    "           }\n",
    "    \n",
    "our_df = pd.DataFrame(df_dict)    # Now make a data frame out of the dictionary"
   ]
  },
  {
   "cell_type": "markdown",
   "metadata": {},
   "source": [
    "And now lets look at it."
   ]
  },
  {
   "cell_type": "code",
   "execution_count": 5,
   "metadata": {},
   "outputs": [
    {
     "data": {
      "text/html": [
       "<div>\n",
       "<style scoped>\n",
       "    .dataframe tbody tr th:only-of-type {\n",
       "        vertical-align: middle;\n",
       "    }\n",
       "\n",
       "    .dataframe tbody tr th {\n",
       "        vertical-align: top;\n",
       "    }\n",
       "\n",
       "    .dataframe thead th {\n",
       "        text-align: right;\n",
       "    }\n",
       "</style>\n",
       "<table border=\"1\" class=\"dataframe\">\n",
       "  <thead>\n",
       "    <tr style=\"text-align: right;\">\n",
       "      <th></th>\n",
       "      <th>systolic BP</th>\n",
       "      <th>diastolic BP</th>\n",
       "      <th>blood oxygenation</th>\n",
       "      <th>pulse rate</th>\n",
       "    </tr>\n",
       "  </thead>\n",
       "  <tbody>\n",
       "    <tr>\n",
       "      <th>0</th>\n",
       "      <td>116</td>\n",
       "      <td>81</td>\n",
       "      <td>98.66</td>\n",
       "      <td>65</td>\n",
       "    </tr>\n",
       "    <tr>\n",
       "      <th>1</th>\n",
       "      <td>119</td>\n",
       "      <td>82</td>\n",
       "      <td>98.25</td>\n",
       "      <td>63</td>\n",
       "    </tr>\n",
       "    <tr>\n",
       "      <th>2</th>\n",
       "      <td>123</td>\n",
       "      <td>79</td>\n",
       "      <td>98.68</td>\n",
       "      <td>67</td>\n",
       "    </tr>\n",
       "    <tr>\n",
       "      <th>3</th>\n",
       "      <td>121</td>\n",
       "      <td>79</td>\n",
       "      <td>98.72</td>\n",
       "      <td>63</td>\n",
       "    </tr>\n",
       "    <tr>\n",
       "      <th>4</th>\n",
       "      <td>121</td>\n",
       "      <td>72</td>\n",
       "      <td>98.57</td>\n",
       "      <td>65</td>\n",
       "    </tr>\n",
       "    <tr>\n",
       "      <th>5</th>\n",
       "      <td>121</td>\n",
       "      <td>81</td>\n",
       "      <td>98.49</td>\n",
       "      <td>64</td>\n",
       "    </tr>\n",
       "    <tr>\n",
       "      <th>6</th>\n",
       "      <td>127</td>\n",
       "      <td>80</td>\n",
       "      <td>98.65</td>\n",
       "      <td>63</td>\n",
       "    </tr>\n",
       "    <tr>\n",
       "      <th>7</th>\n",
       "      <td>125</td>\n",
       "      <td>85</td>\n",
       "      <td>98.57</td>\n",
       "      <td>61</td>\n",
       "    </tr>\n",
       "    <tr>\n",
       "      <th>8</th>\n",
       "      <td>121</td>\n",
       "      <td>85</td>\n",
       "      <td>98.41</td>\n",
       "      <td>66</td>\n",
       "    </tr>\n",
       "    <tr>\n",
       "      <th>9</th>\n",
       "      <td>109</td>\n",
       "      <td>82</td>\n",
       "      <td>98.68</td>\n",
       "      <td>68</td>\n",
       "    </tr>\n",
       "  </tbody>\n",
       "</table>\n",
       "</div>"
      ],
      "text/plain": [
       "   systolic BP  diastolic BP  blood oxygenation  pulse rate\n",
       "0          116            81              98.66          65\n",
       "1          119            82              98.25          63\n",
       "2          123            79              98.68          67\n",
       "3          121            79              98.72          63\n",
       "4          121            72              98.57          65\n",
       "5          121            81              98.49          64\n",
       "6          127            80              98.65          63\n",
       "7          125            85              98.57          61\n",
       "8          121            85              98.41          66\n",
       "9          109            82              98.68          68"
      ]
     },
     "execution_count": 5,
     "metadata": {},
     "output_type": "execute_result"
    }
   ],
   "source": [
    "our_df"
   ]
  },
  {
   "cell_type": "markdown",
   "metadata": {},
   "source": [
    "$\\color{blue}{\\text{Complete the following exercise.}}$\n",
    "\n",
    "  - Use the cell below to create a dataframe with the following data:\n",
    "       - 16 patients\n",
    "       - systolic blood pressure 10% higher than the current\n",
    "       - diastolic blood pressure 5% lower\n",
    "       - blood oxygenation 2% higher\n",
    "       - a 4% higher pulse rate"
   ]
  },
  {
   "cell_type": "code",
   "execution_count": 6,
   "metadata": {},
   "outputs": [
    {
     "data": {
      "text/html": [
       "<div>\n",
       "<style scoped>\n",
       "    .dataframe tbody tr th:only-of-type {\n",
       "        vertical-align: middle;\n",
       "    }\n",
       "\n",
       "    .dataframe tbody tr th {\n",
       "        vertical-align: top;\n",
       "    }\n",
       "\n",
       "    .dataframe thead th {\n",
       "        text-align: right;\n",
       "    }\n",
       "</style>\n",
       "<table border=\"1\" class=\"dataframe\">\n",
       "  <thead>\n",
       "    <tr style=\"text-align: right;\">\n",
       "      <th></th>\n",
       "      <th>systolic BP</th>\n",
       "      <th>diastolic BP</th>\n",
       "      <th>blood oxygenation</th>\n",
       "      <th>pulse rate</th>\n",
       "    </tr>\n",
       "  </thead>\n",
       "  <tbody>\n",
       "    <tr>\n",
       "      <th>0</th>\n",
       "      <td>127.6</td>\n",
       "      <td>76.95</td>\n",
       "      <td>100.6332</td>\n",
       "      <td>67.60</td>\n",
       "    </tr>\n",
       "    <tr>\n",
       "      <th>1</th>\n",
       "      <td>130.9</td>\n",
       "      <td>77.90</td>\n",
       "      <td>100.2150</td>\n",
       "      <td>65.52</td>\n",
       "    </tr>\n",
       "    <tr>\n",
       "      <th>2</th>\n",
       "      <td>135.3</td>\n",
       "      <td>75.05</td>\n",
       "      <td>100.6536</td>\n",
       "      <td>69.68</td>\n",
       "    </tr>\n",
       "    <tr>\n",
       "      <th>3</th>\n",
       "      <td>133.1</td>\n",
       "      <td>75.05</td>\n",
       "      <td>100.6944</td>\n",
       "      <td>65.52</td>\n",
       "    </tr>\n",
       "    <tr>\n",
       "      <th>4</th>\n",
       "      <td>133.1</td>\n",
       "      <td>68.40</td>\n",
       "      <td>100.5414</td>\n",
       "      <td>67.60</td>\n",
       "    </tr>\n",
       "    <tr>\n",
       "      <th>5</th>\n",
       "      <td>133.1</td>\n",
       "      <td>76.95</td>\n",
       "      <td>100.4598</td>\n",
       "      <td>66.56</td>\n",
       "    </tr>\n",
       "    <tr>\n",
       "      <th>6</th>\n",
       "      <td>139.7</td>\n",
       "      <td>76.00</td>\n",
       "      <td>100.6230</td>\n",
       "      <td>65.52</td>\n",
       "    </tr>\n",
       "    <tr>\n",
       "      <th>7</th>\n",
       "      <td>137.5</td>\n",
       "      <td>80.75</td>\n",
       "      <td>100.5414</td>\n",
       "      <td>63.44</td>\n",
       "    </tr>\n",
       "    <tr>\n",
       "      <th>8</th>\n",
       "      <td>133.1</td>\n",
       "      <td>80.75</td>\n",
       "      <td>100.3782</td>\n",
       "      <td>68.64</td>\n",
       "    </tr>\n",
       "    <tr>\n",
       "      <th>9</th>\n",
       "      <td>119.9</td>\n",
       "      <td>77.90</td>\n",
       "      <td>100.6536</td>\n",
       "      <td>70.72</td>\n",
       "    </tr>\n",
       "  </tbody>\n",
       "</table>\n",
       "</div>"
      ],
      "text/plain": [
       "   systolic BP  diastolic BP  blood oxygenation  pulse rate\n",
       "0        127.6         76.95           100.6332       67.60\n",
       "1        130.9         77.90           100.2150       65.52\n",
       "2        135.3         75.05           100.6536       69.68\n",
       "3        133.1         75.05           100.6944       65.52\n",
       "4        133.1         68.40           100.5414       67.60\n",
       "5        133.1         76.95           100.4598       66.56\n",
       "6        139.7         76.00           100.6230       65.52\n",
       "7        137.5         80.75           100.5414       63.44\n",
       "8        133.1         80.75           100.3782       68.64\n",
       "9        119.9         77.90           100.6536       70.72"
      ]
     },
     "execution_count": 6,
     "metadata": {},
     "output_type": "execute_result"
    }
   ],
   "source": [
    "num_patients = 16 # number of patients\n",
    "\n",
    "# create variables based on percent diff from current variables\n",
    "sys_bp_ex = sys_bp*1.1\n",
    "dia_bp_ex = dia_bp*0.95\n",
    "b_oxy_ex  = b_oxy*1.02\n",
    "pulse_ex  = pulse*1.04\n",
    "\n",
    "# create dictionary to store data\n",
    "df_dict = {'systolic BP' : sys_bp_ex,\n",
    "           'diastolic BP' : dia_bp_ex,\n",
    "           'blood oxygenation' : b_oxy_ex,\n",
    "           'pulse rate' : pulse_ex\n",
    "           }\n",
    "ex_df = pd.DataFrame(df_dict) # create df based on dictionary\n",
    "ex_df"
   ]
  },
  {
   "cell_type": "markdown",
   "metadata": {},
   "source": [
    "Now we can see the nice structure of the `DataFrame` object. We have four columns corresponding to our measurement variables, and each row is an \"observation\" which, in the case, corresponds to an individual patient."
   ]
  },
  {
   "cell_type": "markdown",
   "metadata": {},
   "source": [
    "To appreciate some of the features of a pandas `DataFrame`, let's compare it with a numpy `Array` holding the same information. (Which we can do because we're only dealing with numbers here - one of the main features of a pandas data frame is that it can hold non-numeric information too)."
   ]
  },
  {
   "cell_type": "code",
   "execution_count": 7,
   "metadata": {},
   "outputs": [
    {
     "data": {
      "text/plain": [
       "array([[116.  ,  81.  ,  98.66,  65.  ],\n",
       "       [119.  ,  82.  ,  98.25,  63.  ],\n",
       "       [123.  ,  79.  ,  98.68,  67.  ],\n",
       "       [121.  ,  79.  ,  98.72,  63.  ],\n",
       "       [121.  ,  72.  ,  98.57,  65.  ],\n",
       "       [121.  ,  81.  ,  98.49,  64.  ],\n",
       "       [127.  ,  80.  ,  98.65,  63.  ],\n",
       "       [125.  ,  85.  ,  98.57,  61.  ],\n",
       "       [121.  ,  85.  ,  98.41,  66.  ],\n",
       "       [109.  ,  82.  ,  98.68,  68.  ]])"
      ]
     },
     "execution_count": 7,
     "metadata": {},
     "output_type": "execute_result"
    }
   ],
   "source": [
    "our_array = np.transpose(np.vstack((sys_bp, dia_bp, b_oxy, pulse)))\n",
    "our_array"
   ]
  },
  {
   "cell_type": "markdown",
   "metadata": {},
   "source": [
    "$\\color{blue}{\\text{Complete the following exercise.}}$\n",
    "\n",
    "  - Explore what `.vstack` does, use the `markdown` cell below to explain what it does in your own words  "
   ]
  },
  {
   "cell_type": "markdown",
   "metadata": {},
   "source": [
    "Based on the documentations, `.vstack()` stacks an array row-wise. In a way, this is a way to transpose a data table, as was done in the code cell above."
   ]
  },
  {
   "cell_type": "markdown",
   "metadata": {},
   "source": [
    "  - Use the following code cell to show a few examples where you create a numpy array and use vstack to change it, explain why you use chose those operations as examples"
   ]
  },
  {
   "cell_type": "code",
   "execution_count": 8,
   "metadata": {},
   "outputs": [
    {
     "data": {
      "text/plain": [
       "array([['95', 'Bob'],\n",
       "       ['90', 'Sue'],\n",
       "       ['83', 'Joe']], dtype='<U11')"
      ]
     },
     "execution_count": 8,
     "metadata": {},
     "output_type": "execute_result"
    }
   ],
   "source": [
    "test_arr = np.array([[95,\"Bob\"], [90,\"Sue\"], [83, \"Joe\"]]) #NEED TO DO!!\n",
    "test_arr_vstack = np.vstack(test_arr)\n",
    "test_arr_vstack"
   ]
  },
  {
   "cell_type": "markdown",
   "metadata": {},
   "source": [
    "We can see here that our array, `our_array`, contains exactly the same information as our dataframe, `our_df`. There are 3 main differences between the two:\n",
    "\n",
    "* they have different verbs – things they know how to do \n",
    "* we have more ways to access the information in a data frame\n",
    "* the data frame could contain non-numeric information (e.g. gender) if we wanted"
   ]
  },
  {
   "cell_type": "markdown",
   "metadata": {},
   "source": [
    "(Also notice that the data frame is just prettier when printed than the numpy array)"
   ]
  },
  {
   "cell_type": "markdown",
   "metadata": {},
   "source": [
    "## Verbs"
   ]
  },
  {
   "cell_type": "markdown",
   "metadata": {},
   "source": [
    "Let's look at some verbs. Intuitively, it seems like both variables should *know* how to take a mean. Let's see."
   ]
  },
  {
   "cell_type": "code",
   "execution_count": 9,
   "metadata": {},
   "outputs": [
    {
     "data": {
      "text/plain": [
       "90.992"
      ]
     },
     "execution_count": 9,
     "metadata": {},
     "output_type": "execute_result"
    }
   ],
   "source": [
    "our_array.mean()"
   ]
  },
  {
   "cell_type": "markdown",
   "metadata": {},
   "source": [
    "So the numpy array does indeed know how to take the mean of itself, but it takes the mean of the entire array by default, which is not very useful in this case. If we want the mean of each variable, we have to specify that we want the means of the columns (i.e. row-wise means)."
   ]
  },
  {
   "cell_type": "code",
   "execution_count": 10,
   "metadata": {},
   "outputs": [
    {
     "data": {
      "text/plain": [
       "array([120.3  ,  80.6  ,  98.568,  64.5  ])"
      ]
     },
     "execution_count": 10,
     "metadata": {},
     "output_type": "execute_result"
    }
   ],
   "source": [
    "our_array.mean(axis=0)"
   ]
  },
  {
   "cell_type": "markdown",
   "metadata": {},
   "source": [
    "But look what happens if we ask for the mean of our data frame:"
   ]
  },
  {
   "cell_type": "code",
   "execution_count": 11,
   "metadata": {},
   "outputs": [
    {
     "data": {
      "text/plain": [
       "systolic BP          120.300\n",
       "diastolic BP          80.600\n",
       "blood oxygenation     98.568\n",
       "pulse rate            64.500\n",
       "dtype: float64"
      ]
     },
     "execution_count": 11,
     "metadata": {},
     "output_type": "execute_result"
    }
   ],
   "source": [
    "our_df.mean()"
   ]
  },
  {
   "cell_type": "markdown",
   "metadata": {},
   "source": [
    "Visually, that is much more organized! We have the mean of each of our variables, nicely labled by the variable name."
   ]
  },
  {
   "cell_type": "markdown",
   "metadata": {},
   "source": [
    "Data frames can also `describe()` themselves."
   ]
  },
  {
   "cell_type": "code",
   "execution_count": 12,
   "metadata": {},
   "outputs": [
    {
     "data": {
      "text/html": [
       "<div>\n",
       "<style scoped>\n",
       "    .dataframe tbody tr th:only-of-type {\n",
       "        vertical-align: middle;\n",
       "    }\n",
       "\n",
       "    .dataframe tbody tr th {\n",
       "        vertical-align: top;\n",
       "    }\n",
       "\n",
       "    .dataframe thead th {\n",
       "        text-align: right;\n",
       "    }\n",
       "</style>\n",
       "<table border=\"1\" class=\"dataframe\">\n",
       "  <thead>\n",
       "    <tr style=\"text-align: right;\">\n",
       "      <th></th>\n",
       "      <th>systolic BP</th>\n",
       "      <th>diastolic BP</th>\n",
       "      <th>blood oxygenation</th>\n",
       "      <th>pulse rate</th>\n",
       "    </tr>\n",
       "  </thead>\n",
       "  <tbody>\n",
       "    <tr>\n",
       "      <th>count</th>\n",
       "      <td>10.00000</td>\n",
       "      <td>10.000000</td>\n",
       "      <td>10.000000</td>\n",
       "      <td>10.00000</td>\n",
       "    </tr>\n",
       "    <tr>\n",
       "      <th>mean</th>\n",
       "      <td>120.30000</td>\n",
       "      <td>80.600000</td>\n",
       "      <td>98.568000</td>\n",
       "      <td>64.50000</td>\n",
       "    </tr>\n",
       "    <tr>\n",
       "      <th>std</th>\n",
       "      <td>4.98999</td>\n",
       "      <td>3.687818</td>\n",
       "      <td>0.147407</td>\n",
       "      <td>2.12132</td>\n",
       "    </tr>\n",
       "    <tr>\n",
       "      <th>min</th>\n",
       "      <td>109.00000</td>\n",
       "      <td>72.000000</td>\n",
       "      <td>98.250000</td>\n",
       "      <td>61.00000</td>\n",
       "    </tr>\n",
       "    <tr>\n",
       "      <th>25%</th>\n",
       "      <td>119.50000</td>\n",
       "      <td>79.250000</td>\n",
       "      <td>98.510000</td>\n",
       "      <td>63.00000</td>\n",
       "    </tr>\n",
       "    <tr>\n",
       "      <th>50%</th>\n",
       "      <td>121.00000</td>\n",
       "      <td>81.000000</td>\n",
       "      <td>98.610000</td>\n",
       "      <td>64.50000</td>\n",
       "    </tr>\n",
       "    <tr>\n",
       "      <th>75%</th>\n",
       "      <td>122.50000</td>\n",
       "      <td>82.000000</td>\n",
       "      <td>98.675000</td>\n",
       "      <td>65.75000</td>\n",
       "    </tr>\n",
       "    <tr>\n",
       "      <th>max</th>\n",
       "      <td>127.00000</td>\n",
       "      <td>85.000000</td>\n",
       "      <td>98.720000</td>\n",
       "      <td>68.00000</td>\n",
       "    </tr>\n",
       "  </tbody>\n",
       "</table>\n",
       "</div>"
      ],
      "text/plain": [
       "       systolic BP  diastolic BP  blood oxygenation  pulse rate\n",
       "count     10.00000     10.000000          10.000000    10.00000\n",
       "mean     120.30000     80.600000          98.568000    64.50000\n",
       "std        4.98999      3.687818           0.147407     2.12132\n",
       "min      109.00000     72.000000          98.250000    61.00000\n",
       "25%      119.50000     79.250000          98.510000    63.00000\n",
       "50%      121.00000     81.000000          98.610000    64.50000\n",
       "75%      122.50000     82.000000          98.675000    65.75000\n",
       "max      127.00000     85.000000          98.720000    68.00000"
      ]
     },
     "execution_count": 12,
     "metadata": {},
     "output_type": "execute_result"
    }
   ],
   "source": [
    "our_df.describe()"
   ]
  },
  {
   "cell_type": "markdown",
   "metadata": {},
   "source": [
    "Gives us a nice summary table of the data in our data frame."
   ]
  },
  {
   "cell_type": "markdown",
   "metadata": {},
   "source": [
    "Numpy arrays don't know how to do this."
   ]
  },
  {
   "cell_type": "code",
   "execution_count": 13,
   "metadata": {},
   "outputs": [],
   "source": [
    "#our_array.describe() #UNCOMMENT!!"
   ]
  },
  {
   "cell_type": "markdown",
   "metadata": {},
   "source": [
    "Data frames can also make histograms and boxplots of themselves. They aren't publication quality, but super useful for getting a feel for our data."
   ]
  },
  {
   "cell_type": "code",
   "execution_count": 14,
   "metadata": {},
   "outputs": [
    {
     "data": {
      "image/png": "[encoded data removed]",
      "text/plain": [
       "<Figure size 432x288 with 4 Axes>"
      ]
     },
     "metadata": {
      "needs_background": "light"
     },
     "output_type": "display_data"
    }
   ],
   "source": [
    "our_df.hist();"
   ]
  },
  {
   "cell_type": "code",
   "execution_count": 15,
   "metadata": {},
   "outputs": [
    {
     "data": {
      "image/png": "[encoded data removed]",
      "text/plain": [
       "<Figure size 432x288 with 1 Axes>"
      ]
     },
     "metadata": {
      "needs_background": "light"
     },
     "output_type": "display_data"
    }
   ],
   "source": [
    "our_df.boxplot();"
   ]
  },
  {
   "cell_type": "markdown",
   "metadata": {},
   "source": [
    "For a complete listing of what our data frame knows how to do, we can type `our_df.` and then hit the tab key."
   ]
  },
  {
   "cell_type": "code",
   "execution_count": 16,
   "metadata": {},
   "outputs": [],
   "source": [
    "#our_df. #UNCOMMENT"
   ]
  },
  {
   "cell_type": "markdown",
   "metadata": {},
   "source": [
    "$\\color{blue}{\\text{Complete the following exercise.}}$\n",
    "\n",
    "  - Use the next cell to report and describe two methods of `our_df`, explain why you chose those two."
   ]
  },
  {
   "cell_type": "markdown",
   "metadata": {},
   "source": [
    "A method that seemed useful was `.copy()`. This method allows you to copy or duplicate a df. This method seemed useful because DataFrames are mutable objects, so if you want to create a duplicate copy of a dataset and alter it without changing the original, the `.copy()` method will allow you to this quickly and safely. Another method that seemed useful was `drop_duplicates()`. This method deletes all duplicate data points in a dataframe. This method seems useful because it will easily delete duplicate data points, which will likely come in handy when cleaning up data."
   ]
  },
  {
   "cell_type": "markdown",
   "metadata": {},
   "source": [
    "Let's return to the `mean()` function, and see what, exactly, it is returning. We can do this by assigning the output to a variable and looking at its type."
   ]
  },
  {
   "cell_type": "code",
   "execution_count": 17,
   "metadata": {},
   "outputs": [
    {
     "data": {
      "text/plain": [
       "systolic BP          120.300\n",
       "diastolic BP          80.600\n",
       "blood oxygenation     98.568\n",
       "pulse rate            64.500\n",
       "dtype: float64"
      ]
     },
     "execution_count": 17,
     "metadata": {},
     "output_type": "execute_result"
    }
   ],
   "source": [
    "our_means = our_df.mean()\n",
    "our_means"
   ]
  },
  {
   "cell_type": "code",
   "execution_count": 18,
   "metadata": {},
   "outputs": [
    {
     "data": {
      "text/plain": [
       "pandas.core.series.Series"
      ]
     },
     "execution_count": 18,
     "metadata": {},
     "output_type": "execute_result"
    }
   ],
   "source": [
    "type(our_means)"
   ]
  },
  {
   "cell_type": "markdown",
   "metadata": {},
   "source": [
    "So it is a pandas series, but, rather than the index being 0, 1, 2, 3, the *index values are actually the names of our variables*. \n",
    "\n",
    "If we want the mean pulse rate, *we can actually ask for it by name!*"
   ]
  },
  {
   "cell_type": "code",
   "execution_count": 19,
   "metadata": {},
   "outputs": [
    {
     "data": {
      "text/plain": [
       "64.5"
      ]
     },
     "execution_count": 19,
     "metadata": {},
     "output_type": "execute_result"
    }
   ],
   "source": [
    "our_means['pulse rate']"
   ]
  },
  {
   "cell_type": "markdown",
   "metadata": {},
   "source": [
    "This introduces another key feature of pandas: **you can access data by name**."
   ]
  },
  {
   "cell_type": "markdown",
   "metadata": {},
   "source": [
    "$\\color{blue}{\\text{Complete the following exercise.}}$\n",
    "\n",
    "  - Use the cell below to return the diastolic blood pressure from `our_means`"
   ]
  },
  {
   "cell_type": "code",
   "execution_count": 20,
   "metadata": {},
   "outputs": [
    {
     "data": {
      "text/plain": [
       "80.6"
      ]
     },
     "execution_count": 20,
     "metadata": {},
     "output_type": "execute_result"
    }
   ],
   "source": [
    "our_means['diastolic BP']"
   ]
  },
  {
   "cell_type": "markdown",
   "metadata": {},
   "source": [
    "## Accessing data"
   ]
  },
  {
   "cell_type": "markdown",
   "metadata": {},
   "source": [
    "Accessing data by name is kind of a big deal. It makes code more readable and faster and easier to write.\n",
    "\n",
    "So, for example, let's say we wanted the mean pulse rate for our patients. Using numpy, we would have to remember or figure our which column of our numpy array was pulse rate. And we'd have to remember that Python indexes start at 0. *And* we'd have to remember that we have to tell numpy to take the mean down the columns explicitly. Ha. "
   ]
  },
  {
   "cell_type": "markdown",
   "metadata": {},
   "source": [
    "So our code might look something like..."
   ]
  },
  {
   "cell_type": "code",
   "execution_count": 21,
   "metadata": {},
   "outputs": [
    {
     "data": {
      "text/plain": [
       "64.5"
      ]
     },
     "execution_count": 21,
     "metadata": {},
     "output_type": "execute_result"
    }
   ],
   "source": [
    "np_style_means = our_array.mean(axis = 0)\n",
    "pulse_mean = np_style_means[3]\n",
    "pulse_mean"
   ]
  },
  {
   "cell_type": "markdown",
   "metadata": {},
   "source": [
    "Compare that to doing it the pandas way:"
   ]
  },
  {
   "cell_type": "code",
   "execution_count": 22,
   "metadata": {},
   "outputs": [
    {
     "data": {
      "text/plain": [
       "64.5"
      ]
     },
     "execution_count": 22,
     "metadata": {},
     "output_type": "execute_result"
    }
   ],
   "source": [
    "our_means = our_df.mean()\n",
    "our_means['pulse rate']"
   ]
  },
  {
   "cell_type": "markdown",
   "metadata": {},
   "source": [
    "The pandas way makes it very clear what we are doing! People like things to have names and, in pandas, things have names."
   ]
  },
  {
   "cell_type": "markdown",
   "metadata": {},
   "source": [
    "$\\color{blue}{\\text{Complete the following exercise.}}$\n",
    "\n",
    "  - Use the cell below to compute the mean of the `diastolic pressure` both using the `numpy` method and the `pandas` method:"
   ]
  },
  {
   "cell_type": "code",
   "execution_count": 23,
   "metadata": {},
   "outputs": [
    {
     "name": "stdout",
     "output_type": "stream",
     "text": [
      "80.6\n"
     ]
    },
    {
     "data": {
      "text/plain": [
       "80.6"
      ]
     },
     "execution_count": 23,
     "metadata": {},
     "output_type": "execute_result"
    }
   ],
   "source": [
    "# find diastolic pressure via numpy method\n",
    "np_mean = our_array.mean(axis = 0) # find means, averaging across cols\n",
    "dp_mean = np_mean[1] # find diastolic pressure mean as 1st col\n",
    "print(dp_mean)\n",
    "\n",
    "# find diastolic pressure via pandas method\n",
    "our_df['diastolic BP'].mean()"
   ]
  },
  {
   "cell_type": "markdown",
   "metadata": {},
   "source": [
    "### Accessing data using square brackets"
   ]
  },
  {
   "cell_type": "markdown",
   "metadata": {},
   "source": [
    "Let's look ot our litte data frame again."
   ]
  },
  {
   "cell_type": "code",
   "execution_count": 24,
   "metadata": {},
   "outputs": [
    {
     "data": {
      "text/html": [
       "<div>\n",
       "<style scoped>\n",
       "    .dataframe tbody tr th:only-of-type {\n",
       "        vertical-align: middle;\n",
       "    }\n",
       "\n",
       "    .dataframe tbody tr th {\n",
       "        vertical-align: top;\n",
       "    }\n",
       "\n",
       "    .dataframe thead th {\n",
       "        text-align: right;\n",
       "    }\n",
       "</style>\n",
       "<table border=\"1\" class=\"dataframe\">\n",
       "  <thead>\n",
       "    <tr style=\"text-align: right;\">\n",
       "      <th></th>\n",
       "      <th>systolic BP</th>\n",
       "      <th>diastolic BP</th>\n",
       "      <th>blood oxygenation</th>\n",
       "      <th>pulse rate</th>\n",
       "    </tr>\n",
       "  </thead>\n",
       "  <tbody>\n",
       "    <tr>\n",
       "      <th>0</th>\n",
       "      <td>116</td>\n",
       "      <td>81</td>\n",
       "      <td>98.66</td>\n",
       "      <td>65</td>\n",
       "    </tr>\n",
       "    <tr>\n",
       "      <th>1</th>\n",
       "      <td>119</td>\n",
       "      <td>82</td>\n",
       "      <td>98.25</td>\n",
       "      <td>63</td>\n",
       "    </tr>\n",
       "    <tr>\n",
       "      <th>2</th>\n",
       "      <td>123</td>\n",
       "      <td>79</td>\n",
       "      <td>98.68</td>\n",
       "      <td>67</td>\n",
       "    </tr>\n",
       "    <tr>\n",
       "      <th>3</th>\n",
       "      <td>121</td>\n",
       "      <td>79</td>\n",
       "      <td>98.72</td>\n",
       "      <td>63</td>\n",
       "    </tr>\n",
       "    <tr>\n",
       "      <th>4</th>\n",
       "      <td>121</td>\n",
       "      <td>72</td>\n",
       "      <td>98.57</td>\n",
       "      <td>65</td>\n",
       "    </tr>\n",
       "    <tr>\n",
       "      <th>5</th>\n",
       "      <td>121</td>\n",
       "      <td>81</td>\n",
       "      <td>98.49</td>\n",
       "      <td>64</td>\n",
       "    </tr>\n",
       "    <tr>\n",
       "      <th>6</th>\n",
       "      <td>127</td>\n",
       "      <td>80</td>\n",
       "      <td>98.65</td>\n",
       "      <td>63</td>\n",
       "    </tr>\n",
       "    <tr>\n",
       "      <th>7</th>\n",
       "      <td>125</td>\n",
       "      <td>85</td>\n",
       "      <td>98.57</td>\n",
       "      <td>61</td>\n",
       "    </tr>\n",
       "    <tr>\n",
       "      <th>8</th>\n",
       "      <td>121</td>\n",
       "      <td>85</td>\n",
       "      <td>98.41</td>\n",
       "      <td>66</td>\n",
       "    </tr>\n",
       "    <tr>\n",
       "      <th>9</th>\n",
       "      <td>109</td>\n",
       "      <td>82</td>\n",
       "      <td>98.68</td>\n",
       "      <td>68</td>\n",
       "    </tr>\n",
       "  </tbody>\n",
       "</table>\n",
       "</div>"
      ],
      "text/plain": [
       "   systolic BP  diastolic BP  blood oxygenation  pulse rate\n",
       "0          116            81              98.66          65\n",
       "1          119            82              98.25          63\n",
       "2          123            79              98.68          67\n",
       "3          121            79              98.72          63\n",
       "4          121            72              98.57          65\n",
       "5          121            81              98.49          64\n",
       "6          127            80              98.65          63\n",
       "7          125            85              98.57          61\n",
       "8          121            85              98.41          66\n",
       "9          109            82              98.68          68"
      ]
     },
     "execution_count": 24,
     "metadata": {},
     "output_type": "execute_result"
    }
   ],
   "source": [
    "our_df"
   ]
  },
  {
   "cell_type": "markdown",
   "metadata": {},
   "source": [
    "We can grab a column (variable) by name if we want:"
   ]
  },
  {
   "cell_type": "code",
   "execution_count": 25,
   "metadata": {},
   "outputs": [
    {
     "data": {
      "text/plain": [
       "0    65\n",
       "1    63\n",
       "2    67\n",
       "3    63\n",
       "4    65\n",
       "5    64\n",
       "6    63\n",
       "7    61\n",
       "8    66\n",
       "9    68\n",
       "Name: pulse rate, dtype: int64"
      ]
     },
     "execution_count": 25,
     "metadata": {},
     "output_type": "execute_result"
    }
   ],
   "source": [
    "our_df['pulse rate']"
   ]
  },
  {
   "cell_type": "markdown",
   "metadata": {},
   "source": [
    "Doing this creates another `DataFrame` (or `Series`), so it knows how to do stuff to. This allows us to do things like, for example, compute the mean pulse rate in one step instead of two. Like this:"
   ]
  },
  {
   "cell_type": "code",
   "execution_count": 26,
   "metadata": {},
   "outputs": [
    {
     "data": {
      "text/plain": [
       "64.5"
      ]
     },
     "execution_count": 26,
     "metadata": {},
     "output_type": "execute_result"
    }
   ],
   "source": [
    "our_df['pulse rate'].mean()   # creates a series, then makes it compute its own mean"
   ]
  },
  {
   "cell_type": "markdown",
   "metadata": {},
   "source": [
    "We can grab as many columns as we want by using a list of column names."
   ]
  },
  {
   "cell_type": "code",
   "execution_count": 27,
   "metadata": {},
   "outputs": [
    {
     "data": {
      "text/html": [
       "<div>\n",
       "<style scoped>\n",
       "    .dataframe tbody tr th:only-of-type {\n",
       "        vertical-align: middle;\n",
       "    }\n",
       "\n",
       "    .dataframe tbody tr th {\n",
       "        vertical-align: top;\n",
       "    }\n",
       "\n",
       "    .dataframe thead th {\n",
       "        text-align: right;\n",
       "    }\n",
       "</style>\n",
       "<table border=\"1\" class=\"dataframe\">\n",
       "  <thead>\n",
       "    <tr style=\"text-align: right;\">\n",
       "      <th></th>\n",
       "      <th>diastolic BP</th>\n",
       "      <th>systolic BP</th>\n",
       "    </tr>\n",
       "  </thead>\n",
       "  <tbody>\n",
       "    <tr>\n",
       "      <th>0</th>\n",
       "      <td>81</td>\n",
       "      <td>116</td>\n",
       "    </tr>\n",
       "    <tr>\n",
       "      <th>1</th>\n",
       "      <td>82</td>\n",
       "      <td>119</td>\n",
       "    </tr>\n",
       "    <tr>\n",
       "      <th>2</th>\n",
       "      <td>79</td>\n",
       "      <td>123</td>\n",
       "    </tr>\n",
       "    <tr>\n",
       "      <th>3</th>\n",
       "      <td>79</td>\n",
       "      <td>121</td>\n",
       "    </tr>\n",
       "    <tr>\n",
       "      <th>4</th>\n",
       "      <td>72</td>\n",
       "      <td>121</td>\n",
       "    </tr>\n",
       "    <tr>\n",
       "      <th>5</th>\n",
       "      <td>81</td>\n",
       "      <td>121</td>\n",
       "    </tr>\n",
       "    <tr>\n",
       "      <th>6</th>\n",
       "      <td>80</td>\n",
       "      <td>127</td>\n",
       "    </tr>\n",
       "    <tr>\n",
       "      <th>7</th>\n",
       "      <td>85</td>\n",
       "      <td>125</td>\n",
       "    </tr>\n",
       "    <tr>\n",
       "      <th>8</th>\n",
       "      <td>85</td>\n",
       "      <td>121</td>\n",
       "    </tr>\n",
       "    <tr>\n",
       "      <th>9</th>\n",
       "      <td>82</td>\n",
       "      <td>109</td>\n",
       "    </tr>\n",
       "  </tbody>\n",
       "</table>\n",
       "</div>"
      ],
      "text/plain": [
       "   diastolic BP  systolic BP\n",
       "0            81          116\n",
       "1            82          119\n",
       "2            79          123\n",
       "3            79          121\n",
       "4            72          121\n",
       "5            81          121\n",
       "6            80          127\n",
       "7            85          125\n",
       "8            85          121\n",
       "9            82          109"
      ]
     },
     "execution_count": 27,
     "metadata": {},
     "output_type": "execute_result"
    }
   ],
   "source": [
    "needed_cols = ['diastolic BP', 'systolic BP']   # make a list\n",
    "our_df[needed_cols]                             # use the list to grab columns"
   ]
  },
  {
   "cell_type": "markdown",
   "metadata": {},
   "source": [
    "We could also do this in one step."
   ]
  },
  {
   "cell_type": "code",
   "execution_count": 28,
   "metadata": {},
   "outputs": [
    {
     "data": {
      "text/html": [
       "<div>\n",
       "<style scoped>\n",
       "    .dataframe tbody tr th:only-of-type {\n",
       "        vertical-align: middle;\n",
       "    }\n",
       "\n",
       "    .dataframe tbody tr th {\n",
       "        vertical-align: top;\n",
       "    }\n",
       "\n",
       "    .dataframe thead th {\n",
       "        text-align: right;\n",
       "    }\n",
       "</style>\n",
       "<table border=\"1\" class=\"dataframe\">\n",
       "  <thead>\n",
       "    <tr style=\"text-align: right;\">\n",
       "      <th></th>\n",
       "      <th>diastolic BP</th>\n",
       "      <th>systolic BP</th>\n",
       "    </tr>\n",
       "  </thead>\n",
       "  <tbody>\n",
       "    <tr>\n",
       "      <th>0</th>\n",
       "      <td>81</td>\n",
       "      <td>116</td>\n",
       "    </tr>\n",
       "    <tr>\n",
       "      <th>1</th>\n",
       "      <td>82</td>\n",
       "      <td>119</td>\n",
       "    </tr>\n",
       "    <tr>\n",
       "      <th>2</th>\n",
       "      <td>79</td>\n",
       "      <td>123</td>\n",
       "    </tr>\n",
       "    <tr>\n",
       "      <th>3</th>\n",
       "      <td>79</td>\n",
       "      <td>121</td>\n",
       "    </tr>\n",
       "    <tr>\n",
       "      <th>4</th>\n",
       "      <td>72</td>\n",
       "      <td>121</td>\n",
       "    </tr>\n",
       "    <tr>\n",
       "      <th>5</th>\n",
       "      <td>81</td>\n",
       "      <td>121</td>\n",
       "    </tr>\n",
       "    <tr>\n",
       "      <th>6</th>\n",
       "      <td>80</td>\n",
       "      <td>127</td>\n",
       "    </tr>\n",
       "    <tr>\n",
       "      <th>7</th>\n",
       "      <td>85</td>\n",
       "      <td>125</td>\n",
       "    </tr>\n",
       "    <tr>\n",
       "      <th>8</th>\n",
       "      <td>85</td>\n",
       "      <td>121</td>\n",
       "    </tr>\n",
       "    <tr>\n",
       "      <th>9</th>\n",
       "      <td>82</td>\n",
       "      <td>109</td>\n",
       "    </tr>\n",
       "  </tbody>\n",
       "</table>\n",
       "</div>"
      ],
      "text/plain": [
       "   diastolic BP  systolic BP\n",
       "0            81          116\n",
       "1            82          119\n",
       "2            79          123\n",
       "3            79          121\n",
       "4            72          121\n",
       "5            81          121\n",
       "6            80          127\n",
       "7            85          125\n",
       "8            85          121\n",
       "9            82          109"
      ]
     },
     "execution_count": 28,
     "metadata": {},
     "output_type": "execute_result"
    }
   ],
   "source": [
    "our_df[['diastolic BP', 'systolic BP']]  # the inner brackets define our list"
   ]
  },
  {
   "cell_type": "markdown",
   "metadata": {},
   "source": [
    " (although the double brackets might look a little confusing at first)"
   ]
  },
  {
   "cell_type": "markdown",
   "metadata": {},
   "source": [
    "$\\color{blue}{\\text{Complete the following exercise.}}$\n",
    "\n",
    "  - Use the cell below to extract blood oxygenation and pulse rate using a single line of code"
   ]
  },
  {
   "cell_type": "code",
   "execution_count": 29,
   "metadata": {},
   "outputs": [
    {
     "data": {
      "text/html": [
       "<div>\n",
       "<style scoped>\n",
       "    .dataframe tbody tr th:only-of-type {\n",
       "        vertical-align: middle;\n",
       "    }\n",
       "\n",
       "    .dataframe tbody tr th {\n",
       "        vertical-align: top;\n",
       "    }\n",
       "\n",
       "    .dataframe thead th {\n",
       "        text-align: right;\n",
       "    }\n",
       "</style>\n",
       "<table border=\"1\" class=\"dataframe\">\n",
       "  <thead>\n",
       "    <tr style=\"text-align: right;\">\n",
       "      <th></th>\n",
       "      <th>blood oxygenation</th>\n",
       "      <th>pulse rate</th>\n",
       "    </tr>\n",
       "  </thead>\n",
       "  <tbody>\n",
       "    <tr>\n",
       "      <th>0</th>\n",
       "      <td>98.66</td>\n",
       "      <td>65</td>\n",
       "    </tr>\n",
       "    <tr>\n",
       "      <th>1</th>\n",
       "      <td>98.25</td>\n",
       "      <td>63</td>\n",
       "    </tr>\n",
       "    <tr>\n",
       "      <th>2</th>\n",
       "      <td>98.68</td>\n",
       "      <td>67</td>\n",
       "    </tr>\n",
       "    <tr>\n",
       "      <th>3</th>\n",
       "      <td>98.72</td>\n",
       "      <td>63</td>\n",
       "    </tr>\n",
       "    <tr>\n",
       "      <th>4</th>\n",
       "      <td>98.57</td>\n",
       "      <td>65</td>\n",
       "    </tr>\n",
       "    <tr>\n",
       "      <th>5</th>\n",
       "      <td>98.49</td>\n",
       "      <td>64</td>\n",
       "    </tr>\n",
       "    <tr>\n",
       "      <th>6</th>\n",
       "      <td>98.65</td>\n",
       "      <td>63</td>\n",
       "    </tr>\n",
       "    <tr>\n",
       "      <th>7</th>\n",
       "      <td>98.57</td>\n",
       "      <td>61</td>\n",
       "    </tr>\n",
       "    <tr>\n",
       "      <th>8</th>\n",
       "      <td>98.41</td>\n",
       "      <td>66</td>\n",
       "    </tr>\n",
       "    <tr>\n",
       "      <th>9</th>\n",
       "      <td>98.68</td>\n",
       "      <td>68</td>\n",
       "    </tr>\n",
       "  </tbody>\n",
       "</table>\n",
       "</div>"
      ],
      "text/plain": [
       "   blood oxygenation  pulse rate\n",
       "0              98.66          65\n",
       "1              98.25          63\n",
       "2              98.68          67\n",
       "3              98.72          63\n",
       "4              98.57          65\n",
       "5              98.49          64\n",
       "6              98.65          63\n",
       "7              98.57          61\n",
       "8              98.41          66\n",
       "9              98.68          68"
      ]
     },
     "execution_count": 29,
     "metadata": {},
     "output_type": "execute_result"
    }
   ],
   "source": [
    "our_df[['blood oxygenation', 'pulse rate']] "
   ]
  },
  {
   "cell_type": "markdown",
   "metadata": {},
   "source": [
    "### Getting row and row/column combinations of data: \"indexing\""
   ]
  },
  {
   "cell_type": "markdown",
   "metadata": {},
   "source": [
    "**Terminology Warning!** \"Indexing\" is a general term which means \"accessing data by location\". In pandas, as we have seen, objects like DataFrames also have an \"index\" which is a special column of row identifiers. So, in pandas, we can index data using column names, row names (indexing using the index), or both. (We can also index into pandas data frames as if they were numpy arrays, which sometimes comes in handy.)"
   ]
  },
  {
   "cell_type": "markdown",
   "metadata": {},
   "source": [
    "#### Changing the index to make (row) indexing more intuitive"
   ]
  },
  {
   "cell_type": "markdown",
   "metadata": {},
   "source": [
    "Speaking of indexes, it's a little weird to have our patient IDs start at \"0\". Both because \"patient zero\" has a special meaning and also because it's just not intuitive to number a sequence of actual things starting at \"0\".\n",
    "\n",
    "Fortunately, pandas `DataFrame` (and `Series`) objects allow you to customize their index column fairly easily."
   ]
  },
  {
   "cell_type": "markdown",
   "metadata": {},
   "source": [
    "Let's set the index to start at 1 rather than 0:"
   ]
  },
  {
   "cell_type": "code",
   "execution_count": 30,
   "metadata": {},
   "outputs": [],
   "source": [
    "my_ind = np.linspace(1, 10, 10)  # make a sequence from 1 to 10\n",
    "my_ind = np.int64(my_ind)        # change it from decimal to integer (not really necessary, but...)"
   ]
  },
  {
   "cell_type": "markdown",
   "metadata": {},
   "source": [
    "Let's take a look at this index:"
   ]
  },
  {
   "cell_type": "code",
   "execution_count": 31,
   "metadata": {},
   "outputs": [
    {
     "name": "stdout",
     "output_type": "stream",
     "text": [
      "[ 1  2  3  4  5  6  7  8  9 10]\n"
     ]
    }
   ],
   "source": [
    "print(my_ind)"
   ]
  },
  {
   "cell_type": "code",
   "execution_count": 32,
   "metadata": {},
   "outputs": [],
   "source": [
    "our_df.index = my_ind"
   ]
  },
  {
   "cell_type": "code",
   "execution_count": 33,
   "metadata": {},
   "outputs": [
    {
     "data": {
      "text/html": [
       "<div>\n",
       "<style scoped>\n",
       "    .dataframe tbody tr th:only-of-type {\n",
       "        vertical-align: middle;\n",
       "    }\n",
       "\n",
       "    .dataframe tbody tr th {\n",
       "        vertical-align: top;\n",
       "    }\n",
       "\n",
       "    .dataframe thead th {\n",
       "        text-align: right;\n",
       "    }\n",
       "</style>\n",
       "<table border=\"1\" class=\"dataframe\">\n",
       "  <thead>\n",
       "    <tr style=\"text-align: right;\">\n",
       "      <th></th>\n",
       "      <th>systolic BP</th>\n",
       "      <th>diastolic BP</th>\n",
       "      <th>blood oxygenation</th>\n",
       "      <th>pulse rate</th>\n",
       "    </tr>\n",
       "  </thead>\n",
       "  <tbody>\n",
       "    <tr>\n",
       "      <th>1</th>\n",
       "      <td>116</td>\n",
       "      <td>81</td>\n",
       "      <td>98.66</td>\n",
       "      <td>65</td>\n",
       "    </tr>\n",
       "    <tr>\n",
       "      <th>2</th>\n",
       "      <td>119</td>\n",
       "      <td>82</td>\n",
       "      <td>98.25</td>\n",
       "      <td>63</td>\n",
       "    </tr>\n",
       "    <tr>\n",
       "      <th>3</th>\n",
       "      <td>123</td>\n",
       "      <td>79</td>\n",
       "      <td>98.68</td>\n",
       "      <td>67</td>\n",
       "    </tr>\n",
       "    <tr>\n",
       "      <th>4</th>\n",
       "      <td>121</td>\n",
       "      <td>79</td>\n",
       "      <td>98.72</td>\n",
       "      <td>63</td>\n",
       "    </tr>\n",
       "    <tr>\n",
       "      <th>5</th>\n",
       "      <td>121</td>\n",
       "      <td>72</td>\n",
       "      <td>98.57</td>\n",
       "      <td>65</td>\n",
       "    </tr>\n",
       "    <tr>\n",
       "      <th>6</th>\n",
       "      <td>121</td>\n",
       "      <td>81</td>\n",
       "      <td>98.49</td>\n",
       "      <td>64</td>\n",
       "    </tr>\n",
       "    <tr>\n",
       "      <th>7</th>\n",
       "      <td>127</td>\n",
       "      <td>80</td>\n",
       "      <td>98.65</td>\n",
       "      <td>63</td>\n",
       "    </tr>\n",
       "    <tr>\n",
       "      <th>8</th>\n",
       "      <td>125</td>\n",
       "      <td>85</td>\n",
       "      <td>98.57</td>\n",
       "      <td>61</td>\n",
       "    </tr>\n",
       "    <tr>\n",
       "      <th>9</th>\n",
       "      <td>121</td>\n",
       "      <td>85</td>\n",
       "      <td>98.41</td>\n",
       "      <td>66</td>\n",
       "    </tr>\n",
       "    <tr>\n",
       "      <th>10</th>\n",
       "      <td>109</td>\n",
       "      <td>82</td>\n",
       "      <td>98.68</td>\n",
       "      <td>68</td>\n",
       "    </tr>\n",
       "  </tbody>\n",
       "</table>\n",
       "</div>"
      ],
      "text/plain": [
       "    systolic BP  diastolic BP  blood oxygenation  pulse rate\n",
       "1           116            81              98.66          65\n",
       "2           119            82              98.25          63\n",
       "3           123            79              98.68          67\n",
       "4           121            79              98.72          63\n",
       "5           121            72              98.57          65\n",
       "6           121            81              98.49          64\n",
       "7           127            80              98.65          63\n",
       "8           125            85              98.57          61\n",
       "9           121            85              98.41          66\n",
       "10          109            82              98.68          68"
      ]
     },
     "execution_count": 33,
     "metadata": {},
     "output_type": "execute_result"
    }
   ],
   "source": [
    "our_df"
   ]
  },
  {
   "cell_type": "markdown",
   "metadata": {},
   "source": [
    "$\\color{blue}{\\text{Complete the following exercise.}}$\n",
    "\n",
    "  - Use the next cell to create a new index variable using numpy the variable should start at 5 and continue to 15 with 10 steps in between "
   ]
  },
  {
   "cell_type": "code",
   "execution_count": 34,
   "metadata": {},
   "outputs": [
    {
     "data": {
      "text/plain": [
       "array([ 5,  6,  7,  8,  9, 10, 11, 12, 13, 15], dtype=int64)"
      ]
     },
     "execution_count": 34,
     "metadata": {},
     "output_type": "execute_result"
    }
   ],
   "source": [
    "new_ind = np.int64(np.linspace(5, 15, 10))\n",
    "new_ind"
   ]
  },
  {
   "cell_type": "markdown",
   "metadata": {},
   "source": [
    "### Accessing data using `pd.DataFrame.loc[]`"
   ]
  },
  {
   "cell_type": "markdown",
   "metadata": {},
   "source": [
    "In the section above, we saw that you can get columns of data our of a data frame using square brackets `[]`. Pandas data frames also know how to give you subsets of rows or row/column combinations.  \n",
    "\n",
    "The primary method for accessing specific bits of data from a pandas data frame is with the `loc[]` verb. It provides an easy way to get rows of data based upon the index column. In other words, `loc[]` is the way we use the data frame index as an index!"
   ]
  },
  {
   "cell_type": "markdown",
   "metadata": {},
   "source": [
    "So this will give us the data for patient number 3:"
   ]
  },
  {
   "cell_type": "code",
   "execution_count": 35,
   "metadata": {},
   "outputs": [
    {
     "data": {
      "text/plain": [
       "systolic BP          123.00\n",
       "diastolic BP          79.00\n",
       "blood oxygenation     98.68\n",
       "pulse rate            67.00\n",
       "Name: 3, dtype: float64"
      ]
     },
     "execution_count": 35,
     "metadata": {},
     "output_type": "execute_result"
    }
   ],
   "source": [
    "our_df.loc[3]"
   ]
  },
  {
   "cell_type": "markdown",
   "metadata": {},
   "source": [
    "**Note!** The above call did **not** behave like a Python or numpy index! If it had, we would have gotten the data for patient number 4 because Python and numpy use *zero based indexing*. \n",
    "\n",
    "But using the `loc[]` function gives us back the row \"named\" 3. We literally get what we asked for! Yay!"
   ]
  },
  {
   "cell_type": "markdown",
   "metadata": {},
   "source": [
    "We can also *slice* out rows in chunks:"
   ]
  },
  {
   "cell_type": "code",
   "execution_count": 36,
   "metadata": {},
   "outputs": [
    {
     "data": {
      "text/html": [
       "<div>\n",
       "<style scoped>\n",
       "    .dataframe tbody tr th:only-of-type {\n",
       "        vertical-align: middle;\n",
       "    }\n",
       "\n",
       "    .dataframe tbody tr th {\n",
       "        vertical-align: top;\n",
       "    }\n",
       "\n",
       "    .dataframe thead th {\n",
       "        text-align: right;\n",
       "    }\n",
       "</style>\n",
       "<table border=\"1\" class=\"dataframe\">\n",
       "  <thead>\n",
       "    <tr style=\"text-align: right;\">\n",
       "      <th></th>\n",
       "      <th>systolic BP</th>\n",
       "      <th>diastolic BP</th>\n",
       "      <th>blood oxygenation</th>\n",
       "      <th>pulse rate</th>\n",
       "    </tr>\n",
       "  </thead>\n",
       "  <tbody>\n",
       "    <tr>\n",
       "      <th>3</th>\n",
       "      <td>123</td>\n",
       "      <td>79</td>\n",
       "      <td>98.68</td>\n",
       "      <td>67</td>\n",
       "    </tr>\n",
       "    <tr>\n",
       "      <th>4</th>\n",
       "      <td>121</td>\n",
       "      <td>79</td>\n",
       "      <td>98.72</td>\n",
       "      <td>63</td>\n",
       "    </tr>\n",
       "    <tr>\n",
       "      <th>5</th>\n",
       "      <td>121</td>\n",
       "      <td>72</td>\n",
       "      <td>98.57</td>\n",
       "      <td>65</td>\n",
       "    </tr>\n",
       "    <tr>\n",
       "      <th>6</th>\n",
       "      <td>121</td>\n",
       "      <td>81</td>\n",
       "      <td>98.49</td>\n",
       "      <td>64</td>\n",
       "    </tr>\n",
       "  </tbody>\n",
       "</table>\n",
       "</div>"
      ],
      "text/plain": [
       "   systolic BP  diastolic BP  blood oxygenation  pulse rate\n",
       "3          123            79              98.68          67\n",
       "4          121            79              98.72          63\n",
       "5          121            72              98.57          65\n",
       "6          121            81              98.49          64"
      ]
     },
     "execution_count": 36,
     "metadata": {},
     "output_type": "execute_result"
    }
   ],
   "source": [
    "our_df.loc[3:6]"
   ]
  },
  {
   "cell_type": "markdown",
   "metadata": {},
   "source": [
    "Which, again, gives us what we asked for without having to worry about the zero-based business."
   ]
  },
  {
   "cell_type": "markdown",
   "metadata": {},
   "source": [
    "But `.loc[]` also allows us to get specfic columns too. Like:"
   ]
  },
  {
   "cell_type": "code",
   "execution_count": 37,
   "metadata": {},
   "outputs": [
    {
     "data": {
      "text/plain": [
       "3    98.68\n",
       "4    98.72\n",
       "5    98.57\n",
       "6    98.49\n",
       "Name: blood oxygenation, dtype: float64"
      ]
     },
     "execution_count": 37,
     "metadata": {},
     "output_type": "execute_result"
    }
   ],
   "source": [
    "our_df.loc[3:6, 'blood oxygenation']"
   ]
  },
  {
   "cell_type": "markdown",
   "metadata": {},
   "source": [
    "For a single column, or:"
   ]
  },
  {
   "cell_type": "code",
   "execution_count": 38,
   "metadata": {},
   "outputs": [
    {
     "data": {
      "text/html": [
       "<div>\n",
       "<style scoped>\n",
       "    .dataframe tbody tr th:only-of-type {\n",
       "        vertical-align: middle;\n",
       "    }\n",
       "\n",
       "    .dataframe tbody tr th {\n",
       "        vertical-align: top;\n",
       "    }\n",
       "\n",
       "    .dataframe thead th {\n",
       "        text-align: right;\n",
       "    }\n",
       "</style>\n",
       "<table border=\"1\" class=\"dataframe\">\n",
       "  <thead>\n",
       "    <tr style=\"text-align: right;\">\n",
       "      <th></th>\n",
       "      <th>systolic BP</th>\n",
       "      <th>diastolic BP</th>\n",
       "      <th>blood oxygenation</th>\n",
       "    </tr>\n",
       "  </thead>\n",
       "  <tbody>\n",
       "    <tr>\n",
       "      <th>3</th>\n",
       "      <td>123</td>\n",
       "      <td>79</td>\n",
       "      <td>98.68</td>\n",
       "    </tr>\n",
       "    <tr>\n",
       "      <th>4</th>\n",
       "      <td>121</td>\n",
       "      <td>79</td>\n",
       "      <td>98.72</td>\n",
       "    </tr>\n",
       "    <tr>\n",
       "      <th>5</th>\n",
       "      <td>121</td>\n",
       "      <td>72</td>\n",
       "      <td>98.57</td>\n",
       "    </tr>\n",
       "    <tr>\n",
       "      <th>6</th>\n",
       "      <td>121</td>\n",
       "      <td>81</td>\n",
       "      <td>98.49</td>\n",
       "    </tr>\n",
       "  </tbody>\n",
       "</table>\n",
       "</div>"
      ],
      "text/plain": [
       "   systolic BP  diastolic BP  blood oxygenation\n",
       "3          123            79              98.68\n",
       "4          121            79              98.72\n",
       "5          121            72              98.57\n",
       "6          121            81              98.49"
      ]
     },
     "execution_count": 38,
     "metadata": {},
     "output_type": "execute_result"
    }
   ],
   "source": [
    "our_df.loc[3:6,'systolic BP':'blood oxygenation']"
   ]
  },
  {
   "cell_type": "markdown",
   "metadata": {},
   "source": [
    "for multiple columns."
   ]
  },
  {
   "cell_type": "markdown",
   "metadata": {},
   "source": [
    "In summary, there are 3 main ways to get chunks of data out of a data frame \"by name\".\n",
    "\n",
    "* square brackets (only) gives us columns, e.g. `our_df['systolic BP']`\n",
    "* `loc[]` with one argument gives us rows, e.g. `our_df.loc[3]`\n",
    "* `loc[]` with two arguments gives us row-column combinations, e.g. `our_df.loc[3,'systolic BP']`"
   ]
  },
  {
   "cell_type": "markdown",
   "metadata": {},
   "source": [
    "Additionally, with `loc[]`, we can specify index ranges for the rows or columns or both, e.g. `new_df.loc[3:6,'systolic BP':'blood oxygenation']`"
   ]
  },
  {
   "cell_type": "markdown",
   "metadata": {},
   "source": [
    "One final thing about using `loc[]` is that the index column in a `DataFrame` doesn't have to be numbers. It can be date/time strings (as we'll see later on), or just plain strings (as we've seen above with `Series` objects)."
   ]
  },
  {
   "cell_type": "markdown",
   "metadata": {},
   "source": [
    "$\\color{blue}{\\text{Complete the following exercise.}}$\n",
    "\n",
    "  - Use the next cell to create a data frame of heart measurements where the index is the name of the patients (name and surname, make them up!):"
   ]
  },
  {
   "cell_type": "code",
   "execution_count": 39,
   "metadata": {},
   "outputs": [
    {
     "data": {
      "text/html": [
       "<div>\n",
       "<style scoped>\n",
       "    .dataframe tbody tr th:only-of-type {\n",
       "        vertical-align: middle;\n",
       "    }\n",
       "\n",
       "    .dataframe tbody tr th {\n",
       "        vertical-align: top;\n",
       "    }\n",
       "\n",
       "    .dataframe thead th {\n",
       "        text-align: right;\n",
       "    }\n",
       "</style>\n",
       "<table border=\"1\" class=\"dataframe\">\n",
       "  <thead>\n",
       "    <tr style=\"text-align: right;\">\n",
       "      <th></th>\n",
       "      <th>systolic BP</th>\n",
       "      <th>diastolic BP</th>\n",
       "      <th>blood oxygenation</th>\n",
       "      <th>pulse rate</th>\n",
       "    </tr>\n",
       "  </thead>\n",
       "  <tbody>\n",
       "    <tr>\n",
       "      <th>Lex Farro</th>\n",
       "      <td>116</td>\n",
       "      <td>81</td>\n",
       "      <td>98.66</td>\n",
       "      <td>65</td>\n",
       "    </tr>\n",
       "    <tr>\n",
       "      <th>Mitko Sosa</th>\n",
       "      <td>119</td>\n",
       "      <td>82</td>\n",
       "      <td>98.25</td>\n",
       "      <td>63</td>\n",
       "    </tr>\n",
       "    <tr>\n",
       "      <th>Enu Berne</th>\n",
       "      <td>123</td>\n",
       "      <td>79</td>\n",
       "      <td>98.68</td>\n",
       "      <td>67</td>\n",
       "    </tr>\n",
       "    <tr>\n",
       "      <th>Yami Ruff</th>\n",
       "      <td>121</td>\n",
       "      <td>79</td>\n",
       "      <td>98.72</td>\n",
       "      <td>63</td>\n",
       "    </tr>\n",
       "    <tr>\n",
       "      <th>Rowen Messer</th>\n",
       "      <td>121</td>\n",
       "      <td>72</td>\n",
       "      <td>98.57</td>\n",
       "      <td>65</td>\n",
       "    </tr>\n",
       "    <tr>\n",
       "      <th>Lot Blakeley</th>\n",
       "      <td>121</td>\n",
       "      <td>81</td>\n",
       "      <td>98.49</td>\n",
       "      <td>64</td>\n",
       "    </tr>\n",
       "    <tr>\n",
       "      <th>Klaudiusz Tuff</th>\n",
       "      <td>127</td>\n",
       "      <td>80</td>\n",
       "      <td>98.65</td>\n",
       "      <td>63</td>\n",
       "    </tr>\n",
       "    <tr>\n",
       "      <th>Shantanu Falk</th>\n",
       "      <td>125</td>\n",
       "      <td>85</td>\n",
       "      <td>98.57</td>\n",
       "      <td>61</td>\n",
       "    </tr>\n",
       "    <tr>\n",
       "      <th>Hamid Becskei</th>\n",
       "      <td>121</td>\n",
       "      <td>85</td>\n",
       "      <td>98.41</td>\n",
       "      <td>66</td>\n",
       "    </tr>\n",
       "    <tr>\n",
       "      <th>Stine Sieger</th>\n",
       "      <td>109</td>\n",
       "      <td>82</td>\n",
       "      <td>98.68</td>\n",
       "      <td>68</td>\n",
       "    </tr>\n",
       "  </tbody>\n",
       "</table>\n",
       "</div>"
      ],
      "text/plain": [
       "                systolic BP  diastolic BP  blood oxygenation  pulse rate\n",
       "Lex Farro               116            81              98.66          65\n",
       "Mitko Sosa              119            82              98.25          63\n",
       "Enu Berne               123            79              98.68          67\n",
       "Yami Ruff               121            79              98.72          63\n",
       "Rowen Messer            121            72              98.57          65\n",
       "Lot Blakeley            121            81              98.49          64\n",
       "Klaudiusz Tuff          127            80              98.65          63\n",
       "Shantanu Falk           125            85              98.57          61\n",
       "Hamid Becskei           121            85              98.41          66\n",
       "Stine Sieger            109            82              98.68          68"
      ]
     },
     "execution_count": 39,
     "metadata": {},
     "output_type": "execute_result"
    }
   ],
   "source": [
    "# create numpy array with names\n",
    "name_index = np.array(['Lex Farro', 'Mitko Sosa', 'Enu Berne', 'Yami Ruff',\n",
    "                       'Rowen Messer', 'Lot Blakeley', 'Klaudiusz Tuff',\n",
    "                       'Shantanu Falk', 'Hamid Becskei', 'Stine Sieger'])\n",
    "new_df = our_df.copy() # create new df to change index\n",
    "new_df.index = name_index # add names as index\n",
    "new_df"
   ]
  },
  {
   "cell_type": "markdown",
   "metadata": {},
   "source": [
    "Let's look at a summary of our data using the `describe()` method:"
   ]
  },
  {
   "cell_type": "code",
   "execution_count": 40,
   "metadata": {},
   "outputs": [
    {
     "data": {
      "text/html": [
       "<div>\n",
       "<style scoped>\n",
       "    .dataframe tbody tr th:only-of-type {\n",
       "        vertical-align: middle;\n",
       "    }\n",
       "\n",
       "    .dataframe tbody tr th {\n",
       "        vertical-align: top;\n",
       "    }\n",
       "\n",
       "    .dataframe thead th {\n",
       "        text-align: right;\n",
       "    }\n",
       "</style>\n",
       "<table border=\"1\" class=\"dataframe\">\n",
       "  <thead>\n",
       "    <tr style=\"text-align: right;\">\n",
       "      <th></th>\n",
       "      <th>systolic BP</th>\n",
       "      <th>diastolic BP</th>\n",
       "      <th>blood oxygenation</th>\n",
       "      <th>pulse rate</th>\n",
       "    </tr>\n",
       "  </thead>\n",
       "  <tbody>\n",
       "    <tr>\n",
       "      <th>count</th>\n",
       "      <td>10.00000</td>\n",
       "      <td>10.000000</td>\n",
       "      <td>10.000000</td>\n",
       "      <td>10.00000</td>\n",
       "    </tr>\n",
       "    <tr>\n",
       "      <th>mean</th>\n",
       "      <td>120.30000</td>\n",
       "      <td>80.600000</td>\n",
       "      <td>98.568000</td>\n",
       "      <td>64.50000</td>\n",
       "    </tr>\n",
       "    <tr>\n",
       "      <th>std</th>\n",
       "      <td>4.98999</td>\n",
       "      <td>3.687818</td>\n",
       "      <td>0.147407</td>\n",
       "      <td>2.12132</td>\n",
       "    </tr>\n",
       "    <tr>\n",
       "      <th>min</th>\n",
       "      <td>109.00000</td>\n",
       "      <td>72.000000</td>\n",
       "      <td>98.250000</td>\n",
       "      <td>61.00000</td>\n",
       "    </tr>\n",
       "    <tr>\n",
       "      <th>25%</th>\n",
       "      <td>119.50000</td>\n",
       "      <td>79.250000</td>\n",
       "      <td>98.510000</td>\n",
       "      <td>63.00000</td>\n",
       "    </tr>\n",
       "    <tr>\n",
       "      <th>50%</th>\n",
       "      <td>121.00000</td>\n",
       "      <td>81.000000</td>\n",
       "      <td>98.610000</td>\n",
       "      <td>64.50000</td>\n",
       "    </tr>\n",
       "    <tr>\n",
       "      <th>75%</th>\n",
       "      <td>122.50000</td>\n",
       "      <td>82.000000</td>\n",
       "      <td>98.675000</td>\n",
       "      <td>65.75000</td>\n",
       "    </tr>\n",
       "    <tr>\n",
       "      <th>max</th>\n",
       "      <td>127.00000</td>\n",
       "      <td>85.000000</td>\n",
       "      <td>98.720000</td>\n",
       "      <td>68.00000</td>\n",
       "    </tr>\n",
       "  </tbody>\n",
       "</table>\n",
       "</div>"
      ],
      "text/plain": [
       "       systolic BP  diastolic BP  blood oxygenation  pulse rate\n",
       "count     10.00000     10.000000          10.000000    10.00000\n",
       "mean     120.30000     80.600000          98.568000    64.50000\n",
       "std        4.98999      3.687818           0.147407     2.12132\n",
       "min      109.00000     72.000000          98.250000    61.00000\n",
       "25%      119.50000     79.250000          98.510000    63.00000\n",
       "50%      121.00000     81.000000          98.610000    64.50000\n",
       "75%      122.50000     82.000000          98.675000    65.75000\n",
       "max      127.00000     85.000000          98.720000    68.00000"
      ]
     },
     "execution_count": 40,
     "metadata": {},
     "output_type": "execute_result"
    }
   ],
   "source": [
    "our_sum = our_df.describe()\n",
    "our_sum"
   ]
  },
  {
   "cell_type": "markdown",
   "metadata": {},
   "source": [
    "This looks suspiciously like a data frame except the index column looks like they're... er... not indexes. Let's see."
   ]
  },
  {
   "cell_type": "code",
   "execution_count": 41,
   "metadata": {},
   "outputs": [
    {
     "data": {
      "text/plain": [
       "pandas.core.frame.DataFrame"
      ]
     },
     "execution_count": 41,
     "metadata": {},
     "output_type": "execute_result"
    }
   ],
   "source": [
    "type(our_sum)"
   ]
  },
  {
   "cell_type": "markdown",
   "metadata": {},
   "source": [
    "Yep, it's a data frame! But let's see if that index column actually works:"
   ]
  },
  {
   "cell_type": "code",
   "execution_count": 42,
   "metadata": {},
   "outputs": [
    {
     "data": {
      "text/plain": [
       "systolic BP          120.300\n",
       "diastolic BP          80.600\n",
       "blood oxygenation     98.568\n",
       "pulse rate            64.500\n",
       "Name: mean, dtype: float64"
      ]
     },
     "execution_count": 42,
     "metadata": {},
     "output_type": "execute_result"
    }
   ],
   "source": [
    "our_sum.loc['mean']"
   ]
  },
  {
   "cell_type": "markdown",
   "metadata": {},
   "source": [
    "Note that, with a `Series` object, we use square brackets (only) to get  rows. With a `DataFrame`, square brackets (only) are used to get columns. It won't work for `DataFrame` objects:"
   ]
  },
  {
   "cell_type": "code",
   "execution_count": 43,
   "metadata": {},
   "outputs": [],
   "source": [
    "#our_sum['mean'] #UNCOMMENT!!"
   ]
  },
  {
   "cell_type": "markdown",
   "metadata": {},
   "source": [
    "So, with a `DataFrame`, we have to use `.loc[]` to get rows."
   ]
  },
  {
   "cell_type": "markdown",
   "metadata": {},
   "source": [
    "And now we can slice out (get a range of) rows:"
   ]
  },
  {
   "cell_type": "code",
   "execution_count": 44,
   "metadata": {},
   "outputs": [
    {
     "data": {
      "text/html": [
       "<div>\n",
       "<style scoped>\n",
       "    .dataframe tbody tr th:only-of-type {\n",
       "        vertical-align: middle;\n",
       "    }\n",
       "\n",
       "    .dataframe tbody tr th {\n",
       "        vertical-align: top;\n",
       "    }\n",
       "\n",
       "    .dataframe thead th {\n",
       "        text-align: right;\n",
       "    }\n",
       "</style>\n",
       "<table border=\"1\" class=\"dataframe\">\n",
       "  <thead>\n",
       "    <tr style=\"text-align: right;\">\n",
       "      <th></th>\n",
       "      <th>systolic BP</th>\n",
       "      <th>diastolic BP</th>\n",
       "      <th>blood oxygenation</th>\n",
       "      <th>pulse rate</th>\n",
       "    </tr>\n",
       "  </thead>\n",
       "  <tbody>\n",
       "    <tr>\n",
       "      <th>count</th>\n",
       "      <td>10.00000</td>\n",
       "      <td>10.000000</td>\n",
       "      <td>10.000000</td>\n",
       "      <td>10.00000</td>\n",
       "    </tr>\n",
       "    <tr>\n",
       "      <th>mean</th>\n",
       "      <td>120.30000</td>\n",
       "      <td>80.600000</td>\n",
       "      <td>98.568000</td>\n",
       "      <td>64.50000</td>\n",
       "    </tr>\n",
       "    <tr>\n",
       "      <th>std</th>\n",
       "      <td>4.98999</td>\n",
       "      <td>3.687818</td>\n",
       "      <td>0.147407</td>\n",
       "      <td>2.12132</td>\n",
       "    </tr>\n",
       "  </tbody>\n",
       "</table>\n",
       "</div>"
      ],
      "text/plain": [
       "       systolic BP  diastolic BP  blood oxygenation  pulse rate\n",
       "count     10.00000     10.000000          10.000000    10.00000\n",
       "mean     120.30000     80.600000          98.568000    64.50000\n",
       "std        4.98999      3.687818           0.147407     2.12132"
      ]
     },
     "execution_count": 44,
     "metadata": {},
     "output_type": "execute_result"
    }
   ],
   "source": [
    "our_sum.loc['count':'std']"
   ]
  },
  {
   "cell_type": "markdown",
   "metadata": {},
   "source": [
    "Or rows and columns:"
   ]
  },
  {
   "cell_type": "code",
   "execution_count": 45,
   "metadata": {},
   "outputs": [
    {
     "data": {
      "text/html": [
       "<div>\n",
       "<style scoped>\n",
       "    .dataframe tbody tr th:only-of-type {\n",
       "        vertical-align: middle;\n",
       "    }\n",
       "\n",
       "    .dataframe tbody tr th {\n",
       "        vertical-align: top;\n",
       "    }\n",
       "\n",
       "    .dataframe thead th {\n",
       "        text-align: right;\n",
       "    }\n",
       "</style>\n",
       "<table border=\"1\" class=\"dataframe\">\n",
       "  <thead>\n",
       "    <tr style=\"text-align: right;\">\n",
       "      <th></th>\n",
       "      <th>systolic BP</th>\n",
       "      <th>diastolic BP</th>\n",
       "    </tr>\n",
       "  </thead>\n",
       "  <tbody>\n",
       "    <tr>\n",
       "      <th>count</th>\n",
       "      <td>10.00000</td>\n",
       "      <td>10.000000</td>\n",
       "    </tr>\n",
       "    <tr>\n",
       "      <th>mean</th>\n",
       "      <td>120.30000</td>\n",
       "      <td>80.600000</td>\n",
       "    </tr>\n",
       "    <tr>\n",
       "      <th>std</th>\n",
       "      <td>4.98999</td>\n",
       "      <td>3.687818</td>\n",
       "    </tr>\n",
       "  </tbody>\n",
       "</table>\n",
       "</div>"
      ],
      "text/plain": [
       "       systolic BP  diastolic BP\n",
       "count     10.00000     10.000000\n",
       "mean     120.30000     80.600000\n",
       "std        4.98999      3.687818"
      ]
     },
     "execution_count": 45,
     "metadata": {},
     "output_type": "execute_result"
    }
   ],
   "source": [
    "our_sum.loc['count':'std', 'systolic BP':'diastolic BP']"
   ]
  },
  {
   "cell_type": "markdown",
   "metadata": {},
   "source": [
    "### Accessing data using pd.DataFrame.iloc[]"
   ]
  },
  {
   "cell_type": "markdown",
   "metadata": {},
   "source": [
    "Occasionally, you might want to treat a pandas `DataFrame` as a numpy `Array` and index into it using the *implicit* row and column indexes (which start as zero of course). So support this, pandas `DataFrame` objects also have an `iloc[]`."
   ]
  },
  {
   "cell_type": "markdown",
   "metadata": {},
   "source": [
    "Let's look at our data frame again:"
   ]
  },
  {
   "cell_type": "code",
   "execution_count": 46,
   "metadata": {},
   "outputs": [
    {
     "data": {
      "text/html": [
       "<div>\n",
       "<style scoped>\n",
       "    .dataframe tbody tr th:only-of-type {\n",
       "        vertical-align: middle;\n",
       "    }\n",
       "\n",
       "    .dataframe tbody tr th {\n",
       "        vertical-align: top;\n",
       "    }\n",
       "\n",
       "    .dataframe thead th {\n",
       "        text-align: right;\n",
       "    }\n",
       "</style>\n",
       "<table border=\"1\" class=\"dataframe\">\n",
       "  <thead>\n",
       "    <tr style=\"text-align: right;\">\n",
       "      <th></th>\n",
       "      <th>systolic BP</th>\n",
       "      <th>diastolic BP</th>\n",
       "      <th>blood oxygenation</th>\n",
       "      <th>pulse rate</th>\n",
       "    </tr>\n",
       "  </thead>\n",
       "  <tbody>\n",
       "    <tr>\n",
       "      <th>1</th>\n",
       "      <td>116</td>\n",
       "      <td>81</td>\n",
       "      <td>98.66</td>\n",
       "      <td>65</td>\n",
       "    </tr>\n",
       "    <tr>\n",
       "      <th>2</th>\n",
       "      <td>119</td>\n",
       "      <td>82</td>\n",
       "      <td>98.25</td>\n",
       "      <td>63</td>\n",
       "    </tr>\n",
       "    <tr>\n",
       "      <th>3</th>\n",
       "      <td>123</td>\n",
       "      <td>79</td>\n",
       "      <td>98.68</td>\n",
       "      <td>67</td>\n",
       "    </tr>\n",
       "    <tr>\n",
       "      <th>4</th>\n",
       "      <td>121</td>\n",
       "      <td>79</td>\n",
       "      <td>98.72</td>\n",
       "      <td>63</td>\n",
       "    </tr>\n",
       "    <tr>\n",
       "      <th>5</th>\n",
       "      <td>121</td>\n",
       "      <td>72</td>\n",
       "      <td>98.57</td>\n",
       "      <td>65</td>\n",
       "    </tr>\n",
       "    <tr>\n",
       "      <th>6</th>\n",
       "      <td>121</td>\n",
       "      <td>81</td>\n",
       "      <td>98.49</td>\n",
       "      <td>64</td>\n",
       "    </tr>\n",
       "    <tr>\n",
       "      <th>7</th>\n",
       "      <td>127</td>\n",
       "      <td>80</td>\n",
       "      <td>98.65</td>\n",
       "      <td>63</td>\n",
       "    </tr>\n",
       "    <tr>\n",
       "      <th>8</th>\n",
       "      <td>125</td>\n",
       "      <td>85</td>\n",
       "      <td>98.57</td>\n",
       "      <td>61</td>\n",
       "    </tr>\n",
       "    <tr>\n",
       "      <th>9</th>\n",
       "      <td>121</td>\n",
       "      <td>85</td>\n",
       "      <td>98.41</td>\n",
       "      <td>66</td>\n",
       "    </tr>\n",
       "    <tr>\n",
       "      <th>10</th>\n",
       "      <td>109</td>\n",
       "      <td>82</td>\n",
       "      <td>98.68</td>\n",
       "      <td>68</td>\n",
       "    </tr>\n",
       "  </tbody>\n",
       "</table>\n",
       "</div>"
      ],
      "text/plain": [
       "    systolic BP  diastolic BP  blood oxygenation  pulse rate\n",
       "1           116            81              98.66          65\n",
       "2           119            82              98.25          63\n",
       "3           123            79              98.68          67\n",
       "4           121            79              98.72          63\n",
       "5           121            72              98.57          65\n",
       "6           121            81              98.49          64\n",
       "7           127            80              98.65          63\n",
       "8           125            85              98.57          61\n",
       "9           121            85              98.41          66\n",
       "10          109            82              98.68          68"
      ]
     },
     "execution_count": 46,
     "metadata": {},
     "output_type": "execute_result"
    }
   ],
   "source": [
    "our_df"
   ]
  },
  {
   "cell_type": "markdown",
   "metadata": {},
   "source": [
    "And let's check its shape:"
   ]
  },
  {
   "cell_type": "code",
   "execution_count": 47,
   "metadata": {},
   "outputs": [
    {
     "data": {
      "text/plain": [
       "(10, 4)"
      ]
     },
     "execution_count": 47,
     "metadata": {},
     "output_type": "execute_result"
    }
   ],
   "source": [
    "our_df.shape"
   ]
  },
  {
   "cell_type": "markdown",
   "metadata": {},
   "source": [
    "At some level, then, Python considers this to be just a 10x4 array (like a numpy array). This is were `iloc[]` comes in; `iloc[]` will treat the data frame as though it were a numpy array – no names!"
   ]
  },
  {
   "cell_type": "markdown",
   "metadata": {},
   "source": [
    "So let's index into `our–df` using `iloc[]`:"
   ]
  },
  {
   "cell_type": "code",
   "execution_count": 48,
   "metadata": {},
   "outputs": [
    {
     "data": {
      "text/plain": [
       "systolic BP          121.00\n",
       "diastolic BP          79.00\n",
       "blood oxygenation     98.72\n",
       "pulse rate            63.00\n",
       "Name: 4, dtype: float64"
      ]
     },
     "execution_count": 48,
     "metadata": {},
     "output_type": "execute_result"
    }
   ],
   "source": [
    "our_df.iloc[3]  # get the fourth row"
   ]
  },
  {
   "cell_type": "markdown",
   "metadata": {},
   "source": [
    "And compare that to using `loc[]`:"
   ]
  },
  {
   "cell_type": "code",
   "execution_count": 49,
   "metadata": {},
   "outputs": [
    {
     "data": {
      "text/plain": [
       "systolic BP          123.00\n",
       "diastolic BP          79.00\n",
       "blood oxygenation     98.68\n",
       "pulse rate            67.00\n",
       "Name: 3, dtype: float64"
      ]
     },
     "execution_count": 49,
     "metadata": {},
     "output_type": "execute_result"
    }
   ],
   "source": [
    "our_df.loc[3]"
   ]
  },
  {
   "cell_type": "markdown",
   "metadata": {},
   "source": [
    "And of course you can slice out rows and columns:"
   ]
  },
  {
   "cell_type": "code",
   "execution_count": 50,
   "metadata": {},
   "outputs": [
    {
     "data": {
      "text/html": [
       "<div>\n",
       "<style scoped>\n",
       "    .dataframe tbody tr th:only-of-type {\n",
       "        vertical-align: middle;\n",
       "    }\n",
       "\n",
       "    .dataframe tbody tr th {\n",
       "        vertical-align: top;\n",
       "    }\n",
       "\n",
       "    .dataframe thead th {\n",
       "        text-align: right;\n",
       "    }\n",
       "</style>\n",
       "<table border=\"1\" class=\"dataframe\">\n",
       "  <thead>\n",
       "    <tr style=\"text-align: right;\">\n",
       "      <th></th>\n",
       "      <th>systolic BP</th>\n",
       "      <th>diastolic BP</th>\n",
       "    </tr>\n",
       "  </thead>\n",
       "  <tbody>\n",
       "    <tr>\n",
       "      <th>3</th>\n",
       "      <td>123</td>\n",
       "      <td>79</td>\n",
       "    </tr>\n",
       "    <tr>\n",
       "      <th>4</th>\n",
       "      <td>121</td>\n",
       "      <td>79</td>\n",
       "    </tr>\n",
       "    <tr>\n",
       "      <th>5</th>\n",
       "      <td>121</td>\n",
       "      <td>72</td>\n",
       "    </tr>\n",
       "  </tbody>\n",
       "</table>\n",
       "</div>"
      ],
      "text/plain": [
       "   systolic BP  diastolic BP\n",
       "3          123            79\n",
       "4          121            79\n",
       "5          121            72"
      ]
     },
     "execution_count": 50,
     "metadata": {},
     "output_type": "execute_result"
    }
   ],
   "source": [
    "our_df.iloc[2:5, 0:2]"
   ]
  },
  {
   "cell_type": "markdown",
   "metadata": {},
   "source": [
    "Indexing using `iloc[]` is rarely needed on regular data frames (if you're using it, you should probably be working with a numpy `Array`).\n",
    "\n",
    "It is, however, very handy for pulling data out of summary data tables (see below)."
   ]
  },
  {
   "cell_type": "markdown",
   "metadata": {},
   "source": [
    "## Non-numerical information (categories or factors)"
   ]
  },
  {
   "cell_type": "markdown",
   "metadata": {},
   "source": [
    "One of the huge benefits of pandas objects is that, unlike numpy arrays, they can contain categorical variables."
   ]
  },
  {
   "cell_type": "markdown",
   "metadata": {},
   "source": [
    "### Make another data frame to play with"
   ]
  },
  {
   "cell_type": "markdown",
   "metadata": {},
   "source": [
    "Let's use tools we've learned to make a data frame that has both numerical and categorical variables."
   ]
  },
  {
   "cell_type": "markdown",
   "metadata": {},
   "source": [
    "First, we'll make the numerical data:"
   ]
  },
  {
   "cell_type": "code",
   "execution_count": 51,
   "metadata": {},
   "outputs": [],
   "source": [
    "num_patients = 20    # specify the number of patients\n",
    "\n",
    "# make some simulated data with realistic numbers.\n",
    "sys_bp = np.int64(125 + 5*np.random.randn(num_patients,))\n",
    "dia_bp = np.int64(80 + 5*np.random.randn(num_patients,))\n",
    "b_oxy = np.round(98.5 + 0.3*np.random.randn(num_patients,), 2)\n",
    "pulse = np.int64(65 + 2*np.random.randn(num_patients,))"
   ]
  },
  {
   "cell_type": "markdown",
   "metadata": {},
   "source": [
    "(Now we'll make them interesting – this will be clear later)"
   ]
  },
  {
   "cell_type": "code",
   "execution_count": 52,
   "metadata": {},
   "outputs": [],
   "source": [
    "sys_bp[0:10] = sys_bp[0:10] + 15\n",
    "dia_bp[0:10] = dia_bp[0:10] + 15\n",
    "sys_bp[0:5] = sys_bp[0:5] + 5\n",
    "dia_bp[0:5] = dia_bp[0:5] + 5\n",
    "sys_bp[10:15] = sys_bp[10:15] + 5\n",
    "dia_bp[10:15] = dia_bp[10:15] + 5"
   ]
  },
  {
   "cell_type": "markdown",
   "metadata": {},
   "source": [
    "Now let's make a categorical variable indicating whether the patient is diabetic or not. We'll make the first half be diabetic."
   ]
  },
  {
   "cell_type": "code",
   "execution_count": 53,
   "metadata": {},
   "outputs": [],
   "source": [
    "diabetic = pd.Series(['yes', 'no'])  # make the short series\n",
    "diabetic = diabetic.repeat(num_patients/2)       # repeat each over two cell's worth of data\n",
    "diabetic = diabetic.reset_index(drop=True)      # reset the series's index value"
   ]
  },
  {
   "cell_type": "code",
   "execution_count": 54,
   "metadata": {},
   "outputs": [
    {
     "name": "stdout",
     "output_type": "stream",
     "text": [
      "0     yes\n",
      "1     yes\n",
      "2     yes\n",
      "3     yes\n",
      "4     yes\n",
      "5     yes\n",
      "6     yes\n",
      "7     yes\n",
      "8     yes\n",
      "9     yes\n",
      "10     no\n",
      "11     no\n",
      "12     no\n",
      "13     no\n",
      "14     no\n",
      "15     no\n",
      "16     no\n",
      "17     no\n",
      "18     no\n",
      "19     no\n",
      "dtype: object\n"
     ]
    }
   ],
   "source": [
    "print(diabetic)"
   ]
  },
  {
   "cell_type": "markdown",
   "metadata": {},
   "source": [
    "Now will make an \"inner\" sex variable."
   ]
  },
  {
   "cell_type": "code",
   "execution_count": 55,
   "metadata": {},
   "outputs": [],
   "source": [
    "sex = pd.Series(['male', 'female'])             # make the short series"
   ]
  },
  {
   "cell_type": "code",
   "execution_count": 56,
   "metadata": {},
   "outputs": [
    {
     "name": "stdout",
     "output_type": "stream",
     "text": [
      "0      male\n",
      "1    female\n",
      "dtype: object\n"
     ]
    }
   ],
   "source": [
    "print(sex)"
   ]
  },
  {
   "cell_type": "code",
   "execution_count": 57,
   "metadata": {},
   "outputs": [],
   "source": [
    "sex = sex.repeat(num_patients/4)                 # repeat each over one cell's worth of data"
   ]
  },
  {
   "cell_type": "code",
   "execution_count": 58,
   "metadata": {},
   "outputs": [
    {
     "name": "stdout",
     "output_type": "stream",
     "text": [
      "0      male\n",
      "0      male\n",
      "0      male\n",
      "0      male\n",
      "0      male\n",
      "1    female\n",
      "1    female\n",
      "1    female\n",
      "1    female\n",
      "1    female\n",
      "dtype: object\n"
     ]
    }
   ],
   "source": [
    "print(sex)"
   ]
  },
  {
   "cell_type": "code",
   "execution_count": 59,
   "metadata": {},
   "outputs": [],
   "source": [
    "sex = pd.concat([sex]*2, ignore_index=True)   # stack or \"concatenate\" two copies"
   ]
  },
  {
   "cell_type": "code",
   "execution_count": 60,
   "metadata": {},
   "outputs": [
    {
     "name": "stdout",
     "output_type": "stream",
     "text": [
      "0       male\n",
      "1       male\n",
      "2       male\n",
      "3       male\n",
      "4       male\n",
      "5     female\n",
      "6     female\n",
      "7     female\n",
      "8     female\n",
      "9     female\n",
      "10      male\n",
      "11      male\n",
      "12      male\n",
      "13      male\n",
      "14      male\n",
      "15    female\n",
      "16    female\n",
      "17    female\n",
      "18    female\n",
      "19    female\n",
      "dtype: object\n"
     ]
    }
   ],
   "source": [
    "print(sex)"
   ]
  },
  {
   "cell_type": "markdown",
   "metadata": {},
   "source": [
    "Now we'll make a dictionary containing all our data."
   ]
  },
  {
   "cell_type": "code",
   "execution_count": 61,
   "metadata": {},
   "outputs": [],
   "source": [
    "# Make a dictionary with a \"key\" for each variable name, and \n",
    "# the \"values\" being the num_patients long data vectors\n",
    "df_dict = {'systolic BP' : sys_bp,\n",
    "           'diastolic BP' : dia_bp,\n",
    "           'blood oxygenation' : b_oxy,\n",
    "           'pulse rate' : pulse,\n",
    "           'sex': sex,\n",
    "           'diabetes': diabetic\n",
    "           }"
   ]
  },
  {
   "cell_type": "markdown",
   "metadata": {},
   "source": [
    "And turn it into a data frame."
   ]
  },
  {
   "cell_type": "code",
   "execution_count": 62,
   "metadata": {},
   "outputs": [],
   "source": [
    "new_df = pd.DataFrame(df_dict)    # Now make a data frame out of the dictionary"
   ]
  },
  {
   "cell_type": "markdown",
   "metadata": {},
   "source": [
    "Finally, let's up our game and make a more descriptive index column!"
   ]
  },
  {
   "cell_type": "code",
   "execution_count": 63,
   "metadata": {},
   "outputs": [],
   "source": [
    "basename = 'patient '                      # make a \"base\" row name\n",
    "my_index = []                             # make an empty list\n",
    "for i in range(1, num_patients+1) :       # use a for loop to add\n",
    "    my_index.append(basename + str(i))     # id numbers so the base name"
   ]
  },
  {
   "cell_type": "markdown",
   "metadata": {},
   "source": [
    "Assign our new row names to the index of our data frame."
   ]
  },
  {
   "cell_type": "code",
   "execution_count": 64,
   "metadata": {},
   "outputs": [],
   "source": [
    "new_df.index = my_index"
   ]
  },
  {
   "cell_type": "markdown",
   "metadata": {},
   "source": [
    "Let's look at our creation!"
   ]
  },
  {
   "cell_type": "code",
   "execution_count": 65,
   "metadata": {},
   "outputs": [
    {
     "data": {
      "text/html": [
       "<div>\n",
       "<style scoped>\n",
       "    .dataframe tbody tr th:only-of-type {\n",
       "        vertical-align: middle;\n",
       "    }\n",
       "\n",
       "    .dataframe tbody tr th {\n",
       "        vertical-align: top;\n",
       "    }\n",
       "\n",
       "    .dataframe thead th {\n",
       "        text-align: right;\n",
       "    }\n",
       "</style>\n",
       "<table border=\"1\" class=\"dataframe\">\n",
       "  <thead>\n",
       "    <tr style=\"text-align: right;\">\n",
       "      <th></th>\n",
       "      <th>systolic BP</th>\n",
       "      <th>diastolic BP</th>\n",
       "      <th>blood oxygenation</th>\n",
       "      <th>pulse rate</th>\n",
       "      <th>sex</th>\n",
       "      <th>diabetes</th>\n",
       "    </tr>\n",
       "  </thead>\n",
       "  <tbody>\n",
       "    <tr>\n",
       "      <th>patient 1</th>\n",
       "      <td>144</td>\n",
       "      <td>106</td>\n",
       "      <td>98.44</td>\n",
       "      <td>63</td>\n",
       "      <td>male</td>\n",
       "      <td>yes</td>\n",
       "    </tr>\n",
       "    <tr>\n",
       "      <th>patient 2</th>\n",
       "      <td>142</td>\n",
       "      <td>103</td>\n",
       "      <td>98.85</td>\n",
       "      <td>62</td>\n",
       "      <td>male</td>\n",
       "      <td>yes</td>\n",
       "    </tr>\n",
       "    <tr>\n",
       "      <th>patient 3</th>\n",
       "      <td>146</td>\n",
       "      <td>90</td>\n",
       "      <td>97.70</td>\n",
       "      <td>63</td>\n",
       "      <td>male</td>\n",
       "      <td>yes</td>\n",
       "    </tr>\n",
       "    <tr>\n",
       "      <th>patient 4</th>\n",
       "      <td>151</td>\n",
       "      <td>102</td>\n",
       "      <td>98.36</td>\n",
       "      <td>64</td>\n",
       "      <td>male</td>\n",
       "      <td>yes</td>\n",
       "    </tr>\n",
       "    <tr>\n",
       "      <th>patient 5</th>\n",
       "      <td>154</td>\n",
       "      <td>99</td>\n",
       "      <td>97.70</td>\n",
       "      <td>65</td>\n",
       "      <td>male</td>\n",
       "      <td>yes</td>\n",
       "    </tr>\n",
       "    <tr>\n",
       "      <th>patient 6</th>\n",
       "      <td>142</td>\n",
       "      <td>92</td>\n",
       "      <td>98.98</td>\n",
       "      <td>64</td>\n",
       "      <td>female</td>\n",
       "      <td>yes</td>\n",
       "    </tr>\n",
       "    <tr>\n",
       "      <th>patient 7</th>\n",
       "      <td>137</td>\n",
       "      <td>87</td>\n",
       "      <td>98.47</td>\n",
       "      <td>65</td>\n",
       "      <td>female</td>\n",
       "      <td>yes</td>\n",
       "    </tr>\n",
       "    <tr>\n",
       "      <th>patient 8</th>\n",
       "      <td>140</td>\n",
       "      <td>86</td>\n",
       "      <td>98.28</td>\n",
       "      <td>65</td>\n",
       "      <td>female</td>\n",
       "      <td>yes</td>\n",
       "    </tr>\n",
       "    <tr>\n",
       "      <th>patient 9</th>\n",
       "      <td>132</td>\n",
       "      <td>97</td>\n",
       "      <td>98.32</td>\n",
       "      <td>64</td>\n",
       "      <td>female</td>\n",
       "      <td>yes</td>\n",
       "    </tr>\n",
       "    <tr>\n",
       "      <th>patient 10</th>\n",
       "      <td>135</td>\n",
       "      <td>100</td>\n",
       "      <td>98.02</td>\n",
       "      <td>64</td>\n",
       "      <td>female</td>\n",
       "      <td>yes</td>\n",
       "    </tr>\n",
       "    <tr>\n",
       "      <th>patient 11</th>\n",
       "      <td>128</td>\n",
       "      <td>85</td>\n",
       "      <td>98.52</td>\n",
       "      <td>63</td>\n",
       "      <td>male</td>\n",
       "      <td>no</td>\n",
       "    </tr>\n",
       "    <tr>\n",
       "      <th>patient 12</th>\n",
       "      <td>134</td>\n",
       "      <td>83</td>\n",
       "      <td>98.92</td>\n",
       "      <td>62</td>\n",
       "      <td>male</td>\n",
       "      <td>no</td>\n",
       "    </tr>\n",
       "    <tr>\n",
       "      <th>patient 13</th>\n",
       "      <td>126</td>\n",
       "      <td>90</td>\n",
       "      <td>98.63</td>\n",
       "      <td>63</td>\n",
       "      <td>male</td>\n",
       "      <td>no</td>\n",
       "    </tr>\n",
       "    <tr>\n",
       "      <th>patient 14</th>\n",
       "      <td>127</td>\n",
       "      <td>81</td>\n",
       "      <td>98.66</td>\n",
       "      <td>66</td>\n",
       "      <td>male</td>\n",
       "      <td>no</td>\n",
       "    </tr>\n",
       "    <tr>\n",
       "      <th>patient 15</th>\n",
       "      <td>128</td>\n",
       "      <td>96</td>\n",
       "      <td>98.69</td>\n",
       "      <td>64</td>\n",
       "      <td>male</td>\n",
       "      <td>no</td>\n",
       "    </tr>\n",
       "    <tr>\n",
       "      <th>patient 16</th>\n",
       "      <td>126</td>\n",
       "      <td>87</td>\n",
       "      <td>98.42</td>\n",
       "      <td>60</td>\n",
       "      <td>female</td>\n",
       "      <td>no</td>\n",
       "    </tr>\n",
       "    <tr>\n",
       "      <th>patient 17</th>\n",
       "      <td>123</td>\n",
       "      <td>72</td>\n",
       "      <td>98.34</td>\n",
       "      <td>61</td>\n",
       "      <td>female</td>\n",
       "      <td>no</td>\n",
       "    </tr>\n",
       "    <tr>\n",
       "      <th>patient 18</th>\n",
       "      <td>130</td>\n",
       "      <td>80</td>\n",
       "      <td>98.54</td>\n",
       "      <td>62</td>\n",
       "      <td>female</td>\n",
       "      <td>no</td>\n",
       "    </tr>\n",
       "    <tr>\n",
       "      <th>patient 19</th>\n",
       "      <td>121</td>\n",
       "      <td>83</td>\n",
       "      <td>98.28</td>\n",
       "      <td>61</td>\n",
       "      <td>female</td>\n",
       "      <td>no</td>\n",
       "    </tr>\n",
       "    <tr>\n",
       "      <th>patient 20</th>\n",
       "      <td>127</td>\n",
       "      <td>82</td>\n",
       "      <td>98.20</td>\n",
       "      <td>61</td>\n",
       "      <td>female</td>\n",
       "      <td>no</td>\n",
       "    </tr>\n",
       "  </tbody>\n",
       "</table>\n",
       "</div>"
      ],
      "text/plain": [
       "            systolic BP  diastolic BP  blood oxygenation  pulse rate     sex  \\\n",
       "patient 1           144           106              98.44          63    male   \n",
       "patient 2           142           103              98.85          62    male   \n",
       "patient 3           146            90              97.70          63    male   \n",
       "patient 4           151           102              98.36          64    male   \n",
       "patient 5           154            99              97.70          65    male   \n",
       "patient 6           142            92              98.98          64  female   \n",
       "patient 7           137            87              98.47          65  female   \n",
       "patient 8           140            86              98.28          65  female   \n",
       "patient 9           132            97              98.32          64  female   \n",
       "patient 10          135           100              98.02          64  female   \n",
       "patient 11          128            85              98.52          63    male   \n",
       "patient 12          134            83              98.92          62    male   \n",
       "patient 13          126            90              98.63          63    male   \n",
       "patient 14          127            81              98.66          66    male   \n",
       "patient 15          128            96              98.69          64    male   \n",
       "patient 16          126            87              98.42          60  female   \n",
       "patient 17          123            72              98.34          61  female   \n",
       "patient 18          130            80              98.54          62  female   \n",
       "patient 19          121            83              98.28          61  female   \n",
       "patient 20          127            82              98.20          61  female   \n",
       "\n",
       "           diabetes  \n",
       "patient 1       yes  \n",
       "patient 2       yes  \n",
       "patient 3       yes  \n",
       "patient 4       yes  \n",
       "patient 5       yes  \n",
       "patient 6       yes  \n",
       "patient 7       yes  \n",
       "patient 8       yes  \n",
       "patient 9       yes  \n",
       "patient 10      yes  \n",
       "patient 11       no  \n",
       "patient 12       no  \n",
       "patient 13       no  \n",
       "patient 14       no  \n",
       "patient 15       no  \n",
       "patient 16       no  \n",
       "patient 17       no  \n",
       "patient 18       no  \n",
       "patient 19       no  \n",
       "patient 20       no  "
      ]
     },
     "execution_count": 65,
     "metadata": {},
     "output_type": "execute_result"
    }
   ],
   "source": [
    "new_df"
   ]
  },
  {
   "cell_type": "markdown",
   "metadata": {},
   "source": [
    "### Looking at our data"
   ]
  },
  {
   "cell_type": "markdown",
   "metadata": {},
   "source": [
    "Another really nice thing about pandas `DataFrames` is that they naturally lend themselves to interrogation via the visualization library `Seaborn` (we will learn about this library more in future tutorials). \n",
    "\n",
    "So let's peek at some stuff."
   ]
  },
  {
   "cell_type": "code",
   "execution_count": 66,
   "metadata": {},
   "outputs": [
    {
     "data": {
      "image/png": "[encoded data removed]",
      "text/plain": [
       "<Figure size 360x360 with 1 Axes>"
      ]
     },
     "metadata": {
      "needs_background": "light"
     },
     "output_type": "display_data"
    }
   ],
   "source": [
    "import seaborn as sns\n",
    "\n",
    "sns.catplot(data=new_df, x='diabetes', y='systolic BP');"
   ]
  },
  {
   "cell_type": "markdown",
   "metadata": {},
   "source": [
    "Okay, now let's go crazy and do a bunch of plots."
   ]
  },
  {
   "cell_type": "code",
   "execution_count": 67,
   "metadata": {},
   "outputs": [
    {
     "data": {
      "image/png": "[encoded data removed]",
      "text/plain": [
       "<Figure size 413.25x360 with 1 Axes>"
      ]
     },
     "metadata": {
      "needs_background": "light"
     },
     "output_type": "display_data"
    }
   ],
   "source": [
    "sns.catplot(data=new_df, x='sex', y='systolic BP', hue='diabetes');"
   ]
  },
  {
   "cell_type": "code",
   "execution_count": 68,
   "metadata": {},
   "outputs": [
    {
     "data": {
      "image/png": "[encoded data removed]",
      "text/plain": [
       "<Figure size 413.25x360 with 1 Axes>"
      ]
     },
     "metadata": {
      "needs_background": "light"
     },
     "output_type": "display_data"
    }
   ],
   "source": [
    "sns.catplot(data=new_df, x='sex', y='pulse rate', hue='diabetes');"
   ]
  },
  {
   "cell_type": "code",
   "execution_count": 69,
   "metadata": {},
   "outputs": [
    {
     "data": {
      "image/png": "[encoded data removed]",
      "text/plain": [
       "<Figure size 413.25x360 with 1 Axes>"
      ]
     },
     "metadata": {
      "needs_background": "light"
     },
     "output_type": "display_data"
    }
   ],
   "source": [
    "sns.catplot(data=new_df, x='sex', y='diastolic BP', hue='diabetes', kind='bar');"
   ]
  },
  {
   "cell_type": "markdown",
   "metadata": {},
   "source": [
    "### Computing within groups"
   ]
  },
  {
   "cell_type": "markdown",
   "metadata": {},
   "source": [
    "Now that we have an idea of what's going on, let's look at how we could go about computing things like the mean systolic blood pressure in females vs. males, etc."
   ]
  },
  {
   "cell_type": "markdown",
   "metadata": {},
   "source": [
    "#### Using the `groupby()` method"
   ]
  },
  {
   "cell_type": "markdown",
   "metadata": {},
   "source": [
    "Data frames all have a `group_by()` method that, as the name implies, will group our data by a categorical variable. Let's try it."
   ]
  },
  {
   "cell_type": "code",
   "execution_count": 70,
   "metadata": {},
   "outputs": [
    {
     "data": {
      "text/plain": [
       "<pandas.core.groupby.generic.DataFrameGroupBy object at 0x00000210F4F80820>"
      ]
     },
     "execution_count": 70,
     "metadata": {},
     "output_type": "execute_result"
    }
   ],
   "source": [
    "new_df.groupby('sex')"
   ]
  },
  {
   "cell_type": "markdown",
   "metadata": {},
   "source": [
    "So this gave us a `DataFrameGroupBy` object which, in and of itself, is very useful. However, *it knows how to do things*!\n",
    "\n",
    "In general, `GroupBy` objects know how to do pretty much anything that regular `DataFrame` objects do. So, if we want the mean by gender, we can ask the `GroupBy` (for short) object to give us the mean:"
   ]
  },
  {
   "cell_type": "code",
   "execution_count": 71,
   "metadata": {
    "scrolled": true
   },
   "outputs": [
    {
     "data": {
      "text/html": [
       "<div>\n",
       "<style scoped>\n",
       "    .dataframe tbody tr th:only-of-type {\n",
       "        vertical-align: middle;\n",
       "    }\n",
       "\n",
       "    .dataframe tbody tr th {\n",
       "        vertical-align: top;\n",
       "    }\n",
       "\n",
       "    .dataframe thead th {\n",
       "        text-align: right;\n",
       "    }\n",
       "</style>\n",
       "<table border=\"1\" class=\"dataframe\">\n",
       "  <thead>\n",
       "    <tr style=\"text-align: right;\">\n",
       "      <th></th>\n",
       "      <th>systolic BP</th>\n",
       "      <th>diastolic BP</th>\n",
       "      <th>blood oxygenation</th>\n",
       "      <th>pulse rate</th>\n",
       "    </tr>\n",
       "    <tr>\n",
       "      <th>sex</th>\n",
       "      <th></th>\n",
       "      <th></th>\n",
       "      <th></th>\n",
       "      <th></th>\n",
       "    </tr>\n",
       "  </thead>\n",
       "  <tbody>\n",
       "    <tr>\n",
       "      <th>female</th>\n",
       "      <td>131.3</td>\n",
       "      <td>86.6</td>\n",
       "      <td>98.385</td>\n",
       "      <td>62.7</td>\n",
       "    </tr>\n",
       "    <tr>\n",
       "      <th>male</th>\n",
       "      <td>138.0</td>\n",
       "      <td>93.5</td>\n",
       "      <td>98.447</td>\n",
       "      <td>63.5</td>\n",
       "    </tr>\n",
       "  </tbody>\n",
       "</table>\n",
       "</div>"
      ],
      "text/plain": [
       "        systolic BP  diastolic BP  blood oxygenation  pulse rate\n",
       "sex                                                             \n",
       "female        131.3          86.6             98.385        62.7\n",
       "male          138.0          93.5             98.447        63.5"
      ]
     },
     "execution_count": 71,
     "metadata": {},
     "output_type": "execute_result"
    }
   ],
   "source": [
    "new_df.groupby('sex').mean()"
   ]
  },
  {
   "cell_type": "markdown",
   "metadata": {},
   "source": [
    "#### Using the `groupby()` followed by `aggregate()`"
   ]
  },
  {
   "cell_type": "markdown",
   "metadata": {},
   "source": [
    "More powerfully, we can use a `GroupBy` object's `aggregate()` method to compute many things at once."
   ]
  },
  {
   "cell_type": "code",
   "execution_count": 72,
   "metadata": {},
   "outputs": [
    {
     "name": "stderr",
     "output_type": "stream",
     "text": [
      "C:\\Users\\sohme\\AppData\\Local\\Temp\\ipykernel_3572\\2935691488.py:1: FutureWarning: ['sex'] did not aggregate successfully. If any error is raised this will raise in a future version of pandas. Drop these columns/ops to avoid this warning.\n",
      "  new_df.groupby('diabetes').aggregate(['mean', 'std', 'min', 'max'])\n"
     ]
    },
    {
     "data": {
      "text/html": [
       "<div>\n",
       "<style scoped>\n",
       "    .dataframe tbody tr th:only-of-type {\n",
       "        vertical-align: middle;\n",
       "    }\n",
       "\n",
       "    .dataframe tbody tr th {\n",
       "        vertical-align: top;\n",
       "    }\n",
       "\n",
       "    .dataframe thead tr th {\n",
       "        text-align: left;\n",
       "    }\n",
       "\n",
       "    .dataframe thead tr:last-of-type th {\n",
       "        text-align: right;\n",
       "    }\n",
       "</style>\n",
       "<table border=\"1\" class=\"dataframe\">\n",
       "  <thead>\n",
       "    <tr>\n",
       "      <th></th>\n",
       "      <th colspan=\"4\" halign=\"left\">systolic BP</th>\n",
       "      <th colspan=\"4\" halign=\"left\">diastolic BP</th>\n",
       "      <th colspan=\"4\" halign=\"left\">blood oxygenation</th>\n",
       "      <th colspan=\"4\" halign=\"left\">pulse rate</th>\n",
       "    </tr>\n",
       "    <tr>\n",
       "      <th></th>\n",
       "      <th>mean</th>\n",
       "      <th>std</th>\n",
       "      <th>min</th>\n",
       "      <th>max</th>\n",
       "      <th>mean</th>\n",
       "      <th>std</th>\n",
       "      <th>min</th>\n",
       "      <th>max</th>\n",
       "      <th>mean</th>\n",
       "      <th>std</th>\n",
       "      <th>min</th>\n",
       "      <th>max</th>\n",
       "      <th>mean</th>\n",
       "      <th>std</th>\n",
       "      <th>min</th>\n",
       "      <th>max</th>\n",
       "    </tr>\n",
       "    <tr>\n",
       "      <th>diabetes</th>\n",
       "      <th></th>\n",
       "      <th></th>\n",
       "      <th></th>\n",
       "      <th></th>\n",
       "      <th></th>\n",
       "      <th></th>\n",
       "      <th></th>\n",
       "      <th></th>\n",
       "      <th></th>\n",
       "      <th></th>\n",
       "      <th></th>\n",
       "      <th></th>\n",
       "      <th></th>\n",
       "      <th></th>\n",
       "      <th></th>\n",
       "      <th></th>\n",
       "    </tr>\n",
       "  </thead>\n",
       "  <tbody>\n",
       "    <tr>\n",
       "      <th>no</th>\n",
       "      <td>127.0</td>\n",
       "      <td>3.559026</td>\n",
       "      <td>121</td>\n",
       "      <td>134</td>\n",
       "      <td>83.9</td>\n",
       "      <td>6.367452</td>\n",
       "      <td>72</td>\n",
       "      <td>96</td>\n",
       "      <td>98.520</td>\n",
       "      <td>0.216897</td>\n",
       "      <td>98.2</td>\n",
       "      <td>98.92</td>\n",
       "      <td>62.3</td>\n",
       "      <td>1.766981</td>\n",
       "      <td>60</td>\n",
       "      <td>66</td>\n",
       "    </tr>\n",
       "    <tr>\n",
       "      <th>yes</th>\n",
       "      <td>142.3</td>\n",
       "      <td>6.848357</td>\n",
       "      <td>132</td>\n",
       "      <td>154</td>\n",
       "      <td>96.2</td>\n",
       "      <td>7.020605</td>\n",
       "      <td>86</td>\n",
       "      <td>106</td>\n",
       "      <td>98.312</td>\n",
       "      <td>0.423577</td>\n",
       "      <td>97.7</td>\n",
       "      <td>98.98</td>\n",
       "      <td>63.9</td>\n",
       "      <td>0.994429</td>\n",
       "      <td>62</td>\n",
       "      <td>65</td>\n",
       "    </tr>\n",
       "  </tbody>\n",
       "</table>\n",
       "</div>"
      ],
      "text/plain": [
       "         systolic BP                     diastolic BP                     \\\n",
       "                mean       std  min  max         mean       std min  max   \n",
       "diabetes                                                                   \n",
       "no             127.0  3.559026  121  134         83.9  6.367452  72   96   \n",
       "yes            142.3  6.848357  132  154         96.2  7.020605  86  106   \n",
       "\n",
       "         blood oxygenation                        pulse rate                    \n",
       "                      mean       std   min    max       mean       std min max  \n",
       "diabetes                                                                        \n",
       "no                  98.520  0.216897  98.2  98.92       62.3  1.766981  60  66  \n",
       "yes                 98.312  0.423577  97.7  98.98       63.9  0.994429  62  65  "
      ]
     },
     "execution_count": 72,
     "metadata": {},
     "output_type": "execute_result"
    }
   ],
   "source": [
    "new_df.groupby('diabetes').aggregate(['mean', 'std', 'min', 'max'])"
   ]
  },
  {
   "cell_type": "markdown",
   "metadata": {},
   "source": [
    "Okay, what's going on here? First, we got a lot of information out. Second, we got a warning because pandas couldn't compute the mean, etc., on the gender variable, which is perfectly reasonable of course."
   ]
  },
  {
   "cell_type": "markdown",
   "metadata": {},
   "source": [
    "We can handle this by using our skills to carve out a subset of our data frame – just the columns of interest – and then use `groupby()` and `aggregate()` on that."
   ]
  },
  {
   "cell_type": "code",
   "execution_count": 73,
   "metadata": {},
   "outputs": [
    {
     "data": {
      "text/html": [
       "<div>\n",
       "<style scoped>\n",
       "    .dataframe tbody tr th:only-of-type {\n",
       "        vertical-align: middle;\n",
       "    }\n",
       "\n",
       "    .dataframe tbody tr th {\n",
       "        vertical-align: top;\n",
       "    }\n",
       "\n",
       "    .dataframe thead tr th {\n",
       "        text-align: left;\n",
       "    }\n",
       "\n",
       "    .dataframe thead tr:last-of-type th {\n",
       "        text-align: right;\n",
       "    }\n",
       "</style>\n",
       "<table border=\"1\" class=\"dataframe\">\n",
       "  <thead>\n",
       "    <tr>\n",
       "      <th></th>\n",
       "      <th colspan=\"4\" halign=\"left\">systolic BP</th>\n",
       "      <th colspan=\"4\" halign=\"left\">diastolic BP</th>\n",
       "    </tr>\n",
       "    <tr>\n",
       "      <th></th>\n",
       "      <th>mean</th>\n",
       "      <th>std</th>\n",
       "      <th>min</th>\n",
       "      <th>max</th>\n",
       "      <th>mean</th>\n",
       "      <th>std</th>\n",
       "      <th>min</th>\n",
       "      <th>max</th>\n",
       "    </tr>\n",
       "    <tr>\n",
       "      <th>diabetes</th>\n",
       "      <th></th>\n",
       "      <th></th>\n",
       "      <th></th>\n",
       "      <th></th>\n",
       "      <th></th>\n",
       "      <th></th>\n",
       "      <th></th>\n",
       "      <th></th>\n",
       "    </tr>\n",
       "  </thead>\n",
       "  <tbody>\n",
       "    <tr>\n",
       "      <th>no</th>\n",
       "      <td>127.0</td>\n",
       "      <td>3.559026</td>\n",
       "      <td>121</td>\n",
       "      <td>134</td>\n",
       "      <td>83.9</td>\n",
       "      <td>6.367452</td>\n",
       "      <td>72</td>\n",
       "      <td>96</td>\n",
       "    </tr>\n",
       "    <tr>\n",
       "      <th>yes</th>\n",
       "      <td>142.3</td>\n",
       "      <td>6.848357</td>\n",
       "      <td>132</td>\n",
       "      <td>154</td>\n",
       "      <td>96.2</td>\n",
       "      <td>7.020605</td>\n",
       "      <td>86</td>\n",
       "      <td>106</td>\n",
       "    </tr>\n",
       "  </tbody>\n",
       "</table>\n",
       "</div>"
      ],
      "text/plain": [
       "         systolic BP                     diastolic BP                   \n",
       "                mean       std  min  max         mean       std min  max\n",
       "diabetes                                                                \n",
       "no             127.0  3.559026  121  134         83.9  6.367452  72   96\n",
       "yes            142.3  6.848357  132  154         96.2  7.020605  86  106"
      ]
     },
     "execution_count": 73,
     "metadata": {},
     "output_type": "execute_result"
    }
   ],
   "source": [
    "temp_df = new_df[['systolic BP', 'diastolic BP', 'diabetes']]        # make a data frame with only the columns we want\n",
    "our_summary = temp_df.groupby('diabetes').aggregate(['mean', 'std', 'min', 'max'])     # compute stuff on those columns\n",
    "our_summary"
   ]
  },
  {
   "cell_type": "markdown",
   "metadata": {},
   "source": [
    "Notice here that there are *groups of columns*. Like there are two \"meta-columns\", each with four data columns in them. This makes getting the actual values out of the table for further computation, etc., kind of a pain. It's called \"multi-indexing\" or \"hierarchical indexing\". It's a pain.\n",
    "\n",
    "Here are a couple examples."
   ]
  },
  {
   "cell_type": "code",
   "execution_count": 74,
   "metadata": {},
   "outputs": [
    {
     "data": {
      "text/plain": [
       "diabetes\n",
       "no     127.0\n",
       "yes    142.3\n",
       "Name: (systolic BP, mean), dtype: float64"
      ]
     },
     "execution_count": 74,
     "metadata": {},
     "output_type": "execute_result"
    }
   ],
   "source": [
    "our_summary[(\"systolic BP\", \"mean\")]"
   ]
  },
  {
   "cell_type": "code",
   "execution_count": 75,
   "metadata": {},
   "outputs": [
    {
     "data": {
      "text/plain": [
       "systolic BP   mean    127.000000\n",
       "              std       3.559026\n",
       "              min     121.000000\n",
       "              max     134.000000\n",
       "diastolic BP  mean     83.900000\n",
       "              std       6.367452\n",
       "              min      72.000000\n",
       "              max      96.000000\n",
       "Name: no, dtype: float64"
      ]
     },
     "execution_count": 75,
     "metadata": {},
     "output_type": "execute_result"
    }
   ],
   "source": [
    "our_summary.loc[(\"no\")]"
   ]
  },
  {
   "cell_type": "markdown",
   "metadata": {},
   "source": [
    "Of course, we could do the blood pressure variables separately and store them for later plotting, etc."
   ]
  },
  {
   "cell_type": "code",
   "execution_count": 76,
   "metadata": {},
   "outputs": [
    {
     "data": {
      "text/html": [
       "<div>\n",
       "<style scoped>\n",
       "    .dataframe tbody tr th:only-of-type {\n",
       "        vertical-align: middle;\n",
       "    }\n",
       "\n",
       "    .dataframe tbody tr th {\n",
       "        vertical-align: top;\n",
       "    }\n",
       "\n",
       "    .dataframe thead tr th {\n",
       "        text-align: left;\n",
       "    }\n",
       "\n",
       "    .dataframe thead tr:last-of-type th {\n",
       "        text-align: right;\n",
       "    }\n",
       "</style>\n",
       "<table border=\"1\" class=\"dataframe\">\n",
       "  <thead>\n",
       "    <tr>\n",
       "      <th></th>\n",
       "      <th colspan=\"4\" halign=\"left\">systolic BP</th>\n",
       "    </tr>\n",
       "    <tr>\n",
       "      <th></th>\n",
       "      <th>mean</th>\n",
       "      <th>std</th>\n",
       "      <th>min</th>\n",
       "      <th>max</th>\n",
       "    </tr>\n",
       "    <tr>\n",
       "      <th>diabetes</th>\n",
       "      <th></th>\n",
       "      <th></th>\n",
       "      <th></th>\n",
       "      <th></th>\n",
       "    </tr>\n",
       "  </thead>\n",
       "  <tbody>\n",
       "    <tr>\n",
       "      <th>no</th>\n",
       "      <td>127.0</td>\n",
       "      <td>3.559026</td>\n",
       "      <td>121</td>\n",
       "      <td>134</td>\n",
       "    </tr>\n",
       "    <tr>\n",
       "      <th>yes</th>\n",
       "      <td>142.3</td>\n",
       "      <td>6.848357</td>\n",
       "      <td>132</td>\n",
       "      <td>154</td>\n",
       "    </tr>\n",
       "  </tbody>\n",
       "</table>\n",
       "</div>"
      ],
      "text/plain": [
       "         systolic BP                    \n",
       "                mean       std  min  max\n",
       "diabetes                                \n",
       "no             127.0  3.559026  121  134\n",
       "yes            142.3  6.848357  132  154"
      ]
     },
     "execution_count": 76,
     "metadata": {},
     "output_type": "execute_result"
    }
   ],
   "source": [
    "temp_df = new_df[['systolic BP', 'diabetes']]        # make a data frame with only the columns we want\n",
    "our_summary = temp_df.groupby('diabetes').aggregate(['mean', 'std', 'min', 'max'])     # compute stuff on those columns\n",
    "our_summary"
   ]
  },
  {
   "cell_type": "markdown",
   "metadata": {},
   "source": [
    "But we still have a meta-column label!\n",
    "\n",
    "Here's were `.iloc[]` comes to the rescue!\n",
    "\n",
    "If we look at the shape of the summary:"
   ]
  },
  {
   "cell_type": "code",
   "execution_count": 77,
   "metadata": {},
   "outputs": [
    {
     "data": {
      "text/plain": [
       "(2, 4)"
      ]
     },
     "execution_count": 77,
     "metadata": {},
     "output_type": "execute_result"
    }
   ],
   "source": [
    "our_summary.shape"
   ]
  },
  {
   "cell_type": "markdown",
   "metadata": {},
   "source": [
    "We see that, ultimately, the data is just a 2x4 table. So if we want, say, the standard deviation of non-diabetics, we can just do:"
   ]
  },
  {
   "cell_type": "code",
   "execution_count": 78,
   "metadata": {},
   "outputs": [
    {
     "data": {
      "text/plain": [
       "3.559026084010434"
      ]
     },
     "execution_count": 78,
     "metadata": {},
     "output_type": "execute_result"
    }
   ],
   "source": [
    "our_summary.iloc[0, 1]"
   ]
  },
  {
   "cell_type": "markdown",
   "metadata": {},
   "source": [
    "And we get back a pure number."
   ]
  },
  {
   "cell_type": "markdown",
   "metadata": {},
   "source": [
    "We can also do things \"backwards\", that is, instead of subsetting the data and then doing a `groupby()`, we can do the `groupby()` and then index into it and compute what we want. For example, if we wanted the mean of systolic blood pressure grouped by whether patients had diabetes or not, we could go one of two ways.\n",
    "\n",
    "We could subset and then group:"
   ]
  },
  {
   "cell_type": "code",
   "execution_count": 79,
   "metadata": {},
   "outputs": [
    {
     "data": {
      "text/html": [
       "<div>\n",
       "<style scoped>\n",
       "    .dataframe tbody tr th:only-of-type {\n",
       "        vertical-align: middle;\n",
       "    }\n",
       "\n",
       "    .dataframe tbody tr th {\n",
       "        vertical-align: top;\n",
       "    }\n",
       "\n",
       "    .dataframe thead th {\n",
       "        text-align: right;\n",
       "    }\n",
       "</style>\n",
       "<table border=\"1\" class=\"dataframe\">\n",
       "  <thead>\n",
       "    <tr style=\"text-align: right;\">\n",
       "      <th></th>\n",
       "      <th>systolic BP</th>\n",
       "    </tr>\n",
       "    <tr>\n",
       "      <th>diabetes</th>\n",
       "      <th></th>\n",
       "    </tr>\n",
       "  </thead>\n",
       "  <tbody>\n",
       "    <tr>\n",
       "      <th>no</th>\n",
       "      <td>127.0</td>\n",
       "    </tr>\n",
       "    <tr>\n",
       "      <th>yes</th>\n",
       "      <td>142.3</td>\n",
       "    </tr>\n",
       "  </tbody>\n",
       "</table>\n",
       "</div>"
      ],
      "text/plain": [
       "          systolic BP\n",
       "diabetes             \n",
       "no              127.0\n",
       "yes             142.3"
      ]
     },
     "execution_count": 79,
     "metadata": {},
     "output_type": "execute_result"
    }
   ],
   "source": [
    "new_df[['systolic BP', 'diabetes']].groupby('diabetes').mean()"
   ]
  },
  {
   "cell_type": "markdown",
   "metadata": {},
   "source": [
    "Or we could group and then subset:"
   ]
  },
  {
   "cell_type": "code",
   "execution_count": 80,
   "metadata": {},
   "outputs": [
    {
     "data": {
      "text/html": [
       "<div>\n",
       "<style scoped>\n",
       "    .dataframe tbody tr th:only-of-type {\n",
       "        vertical-align: middle;\n",
       "    }\n",
       "\n",
       "    .dataframe tbody tr th {\n",
       "        vertical-align: top;\n",
       "    }\n",
       "\n",
       "    .dataframe thead th {\n",
       "        text-align: right;\n",
       "    }\n",
       "</style>\n",
       "<table border=\"1\" class=\"dataframe\">\n",
       "  <thead>\n",
       "    <tr style=\"text-align: right;\">\n",
       "      <th></th>\n",
       "      <th>systolic BP</th>\n",
       "    </tr>\n",
       "    <tr>\n",
       "      <th>diabetes</th>\n",
       "      <th></th>\n",
       "    </tr>\n",
       "  </thead>\n",
       "  <tbody>\n",
       "    <tr>\n",
       "      <th>no</th>\n",
       "      <td>127.0</td>\n",
       "    </tr>\n",
       "    <tr>\n",
       "      <th>yes</th>\n",
       "      <td>142.3</td>\n",
       "    </tr>\n",
       "  </tbody>\n",
       "</table>\n",
       "</div>"
      ],
      "text/plain": [
       "          systolic BP\n",
       "diabetes             \n",
       "no              127.0\n",
       "yes             142.3"
      ]
     },
     "execution_count": 80,
     "metadata": {},
     "output_type": "execute_result"
    }
   ],
   "source": [
    "new_df.groupby('diabetes')[['systolic BP']].mean()"
   ]
  },
  {
   "cell_type": "markdown",
   "metadata": {},
   "source": [
    "Okay, first, it's cool that there are multiple ways to do things. Second – **aarrgghh!** – things are starting to get complicated and code is getting hard to read!"
   ]
  },
  {
   "cell_type": "markdown",
   "metadata": {},
   "source": [
    "#### Using pivot tables"
   ]
  },
  {
   "cell_type": "markdown",
   "metadata": {},
   "source": [
    "\"Pivot tables\" (so named because allow you to look at data along different dimensions or directions) provide a handy solution for summarizing data."
   ]
  },
  {
   "cell_type": "markdown",
   "metadata": {},
   "source": [
    "By default, pivot tables tabulate the mean of data. So if we wish to compute the average systolic blood pressure broken out by diabetes status, all we have to do is:"
   ]
  },
  {
   "cell_type": "code",
   "execution_count": 81,
   "metadata": {},
   "outputs": [
    {
     "data": {
      "text/html": [
       "<div>\n",
       "<style scoped>\n",
       "    .dataframe tbody tr th:only-of-type {\n",
       "        vertical-align: middle;\n",
       "    }\n",
       "\n",
       "    .dataframe tbody tr th {\n",
       "        vertical-align: top;\n",
       "    }\n",
       "\n",
       "    .dataframe thead th {\n",
       "        text-align: right;\n",
       "    }\n",
       "</style>\n",
       "<table border=\"1\" class=\"dataframe\">\n",
       "  <thead>\n",
       "    <tr style=\"text-align: right;\">\n",
       "      <th></th>\n",
       "      <th>systolic BP</th>\n",
       "    </tr>\n",
       "    <tr>\n",
       "      <th>diabetes</th>\n",
       "      <th></th>\n",
       "    </tr>\n",
       "  </thead>\n",
       "  <tbody>\n",
       "    <tr>\n",
       "      <th>no</th>\n",
       "      <td>127.0</td>\n",
       "    </tr>\n",
       "    <tr>\n",
       "      <th>yes</th>\n",
       "      <td>142.3</td>\n",
       "    </tr>\n",
       "  </tbody>\n",
       "</table>\n",
       "</div>"
      ],
      "text/plain": [
       "          systolic BP\n",
       "diabetes             \n",
       "no              127.0\n",
       "yes             142.3"
      ]
     },
     "execution_count": 81,
     "metadata": {},
     "output_type": "execute_result"
    }
   ],
   "source": [
    "new_df.pivot_table('systolic BP', index='diabetes')"
   ]
  },
  {
   "cell_type": "markdown",
   "metadata": {},
   "source": [
    "Here, `index` is used in the \"row names\" sense of the word."
   ]
  },
  {
   "cell_type": "markdown",
   "metadata": {},
   "source": [
    "We can also have another grouping variables map to the columns of the output if we wish:"
   ]
  },
  {
   "cell_type": "code",
   "execution_count": 82,
   "metadata": {},
   "outputs": [
    {
     "data": {
      "text/html": [
       "<div>\n",
       "<style scoped>\n",
       "    .dataframe tbody tr th:only-of-type {\n",
       "        vertical-align: middle;\n",
       "    }\n",
       "\n",
       "    .dataframe tbody tr th {\n",
       "        vertical-align: top;\n",
       "    }\n",
       "\n",
       "    .dataframe thead th {\n",
       "        text-align: right;\n",
       "    }\n",
       "</style>\n",
       "<table border=\"1\" class=\"dataframe\">\n",
       "  <thead>\n",
       "    <tr style=\"text-align: right;\">\n",
       "      <th>sex</th>\n",
       "      <th>female</th>\n",
       "      <th>male</th>\n",
       "    </tr>\n",
       "    <tr>\n",
       "      <th>diabetes</th>\n",
       "      <th></th>\n",
       "      <th></th>\n",
       "    </tr>\n",
       "  </thead>\n",
       "  <tbody>\n",
       "    <tr>\n",
       "      <th>no</th>\n",
       "      <td>125.4</td>\n",
       "      <td>128.6</td>\n",
       "    </tr>\n",
       "    <tr>\n",
       "      <th>yes</th>\n",
       "      <td>137.2</td>\n",
       "      <td>147.4</td>\n",
       "    </tr>\n",
       "  </tbody>\n",
       "</table>\n",
       "</div>"
      ],
      "text/plain": [
       "sex       female   male\n",
       "diabetes               \n",
       "no         125.4  128.6\n",
       "yes        137.2  147.4"
      ]
     },
     "execution_count": 82,
     "metadata": {},
     "output_type": "execute_result"
    }
   ],
   "source": [
    "new_df.pivot_table('systolic BP', index='diabetes', columns='sex')"
   ]
  },
  {
   "cell_type": "markdown",
   "metadata": {},
   "source": [
    "Finally, we can specify pretty much any other summary function we want to \"aggregate\" by:"
   ]
  },
  {
   "cell_type": "code",
   "execution_count": 83,
   "metadata": {},
   "outputs": [
    {
     "data": {
      "text/html": [
       "<div>\n",
       "<style scoped>\n",
       "    .dataframe tbody tr th:only-of-type {\n",
       "        vertical-align: middle;\n",
       "    }\n",
       "\n",
       "    .dataframe tbody tr th {\n",
       "        vertical-align: top;\n",
       "    }\n",
       "\n",
       "    .dataframe thead th {\n",
       "        text-align: right;\n",
       "    }\n",
       "</style>\n",
       "<table border=\"1\" class=\"dataframe\">\n",
       "  <thead>\n",
       "    <tr style=\"text-align: right;\">\n",
       "      <th>sex</th>\n",
       "      <th>female</th>\n",
       "      <th>male</th>\n",
       "    </tr>\n",
       "    <tr>\n",
       "      <th>diabetes</th>\n",
       "      <th></th>\n",
       "      <th></th>\n",
       "    </tr>\n",
       "  </thead>\n",
       "  <tbody>\n",
       "    <tr>\n",
       "      <th>no</th>\n",
       "      <td>126</td>\n",
       "      <td>128</td>\n",
       "    </tr>\n",
       "    <tr>\n",
       "      <th>yes</th>\n",
       "      <td>137</td>\n",
       "      <td>146</td>\n",
       "    </tr>\n",
       "  </tbody>\n",
       "</table>\n",
       "</div>"
      ],
      "text/plain": [
       "sex       female  male\n",
       "diabetes              \n",
       "no           126   128\n",
       "yes          137   146"
      ]
     },
     "execution_count": 83,
     "metadata": {},
     "output_type": "execute_result"
    }
   ],
   "source": [
    "new_df.pivot_table('systolic BP', index='diabetes', columns='sex', aggfunc='median')"
   ]
  },
  {
   "cell_type": "markdown",
   "metadata": {},
   "source": [
    "If you want to customize the column names using the aggregate function, you can (Though it is somewhat limited)! Look at the example down below for an explanation"
   ]
  },
  {
   "cell_type": "code",
   "execution_count": 84,
   "metadata": {},
   "outputs": [
    {
     "data": {
      "text/html": [
       "<div>\n",
       "<style scoped>\n",
       "    .dataframe tbody tr th:only-of-type {\n",
       "        vertical-align: middle;\n",
       "    }\n",
       "\n",
       "    .dataframe tbody tr th {\n",
       "        vertical-align: top;\n",
       "    }\n",
       "\n",
       "    .dataframe thead th {\n",
       "        text-align: right;\n",
       "    }\n",
       "</style>\n",
       "<table border=\"1\" class=\"dataframe\">\n",
       "  <thead>\n",
       "    <tr style=\"text-align: right;\">\n",
       "      <th></th>\n",
       "      <th>Mean</th>\n",
       "    </tr>\n",
       "    <tr>\n",
       "      <th>diabetes</th>\n",
       "      <th></th>\n",
       "    </tr>\n",
       "  </thead>\n",
       "  <tbody>\n",
       "    <tr>\n",
       "      <th>no</th>\n",
       "      <td>127.0</td>\n",
       "    </tr>\n",
       "    <tr>\n",
       "      <th>yes</th>\n",
       "      <td>142.3</td>\n",
       "    </tr>\n",
       "  </tbody>\n",
       "</table>\n",
       "</div>"
      ],
      "text/plain": [
       "           Mean\n",
       "diabetes       \n",
       "no        127.0\n",
       "yes       142.3"
      ]
     },
     "execution_count": 84,
     "metadata": {},
     "output_type": "execute_result"
    }
   ],
   "source": [
    "new_df.groupby('diabetes').aggregate(Mean=('systolic BP',\"mean\"))"
   ]
  },
  {
   "cell_type": "markdown",
   "metadata": {},
   "source": [
    "The \"Mean\" is your new title, while inside the second set of parantheses is where/what you wantthe aggregate function to calculate"
   ]
  },
  {
   "cell_type": "markdown",
   "metadata": {},
   "source": [
    "However, as you might have noticed, this is fairly limited. It removes the meta column titles, replacing them with the title of your choice. This can make it somewhat dificult to interpret your tables. Additionally, you can't have any spaces in the new title of your choice. "
   ]
  },
  {
   "cell_type": "code",
   "execution_count": 85,
   "metadata": {},
   "outputs": [
    {
     "data": {
      "text/html": [
       "<div>\n",
       "<style scoped>\n",
       "    .dataframe tbody tr th:only-of-type {\n",
       "        vertical-align: middle;\n",
       "    }\n",
       "\n",
       "    .dataframe tbody tr th {\n",
       "        vertical-align: top;\n",
       "    }\n",
       "\n",
       "    .dataframe thead th {\n",
       "        text-align: right;\n",
       "    }\n",
       "</style>\n",
       "<table border=\"1\" class=\"dataframe\">\n",
       "  <thead>\n",
       "    <tr style=\"text-align: right;\">\n",
       "      <th></th>\n",
       "      <th>Mean</th>\n",
       "      <th>Standard_Deviation</th>\n",
       "    </tr>\n",
       "    <tr>\n",
       "      <th>diabetes</th>\n",
       "      <th></th>\n",
       "      <th></th>\n",
       "    </tr>\n",
       "  </thead>\n",
       "  <tbody>\n",
       "    <tr>\n",
       "      <th>no</th>\n",
       "      <td>127.0</td>\n",
       "      <td>3.559026</td>\n",
       "    </tr>\n",
       "    <tr>\n",
       "      <th>yes</th>\n",
       "      <td>142.3</td>\n",
       "      <td>6.848357</td>\n",
       "    </tr>\n",
       "  </tbody>\n",
       "</table>\n",
       "</div>"
      ],
      "text/plain": [
       "           Mean  Standard_Deviation\n",
       "diabetes                           \n",
       "no        127.0            3.559026\n",
       "yes       142.3            6.848357"
      ]
     },
     "execution_count": 85,
     "metadata": {},
     "output_type": "execute_result"
    }
   ],
   "source": [
    " new_df.groupby('diabetes').aggregate(Mean=('systolic BP',\"mean\"),\n",
    "                                      Standard_Deviation = ('systolic BP',\"std\"))"
   ]
  },
  {
   "cell_type": "markdown",
   "metadata": {},
   "source": [
    "## vs."
   ]
  },
  {
   "cell_type": "code",
   "execution_count": 86,
   "metadata": {},
   "outputs": [
    {
     "data": {
      "text/html": [
       "<div>\n",
       "<style scoped>\n",
       "    .dataframe tbody tr th:only-of-type {\n",
       "        vertical-align: middle;\n",
       "    }\n",
       "\n",
       "    .dataframe tbody tr th {\n",
       "        vertical-align: top;\n",
       "    }\n",
       "\n",
       "    .dataframe thead th {\n",
       "        text-align: right;\n",
       "    }\n",
       "</style>\n",
       "<table border=\"1\" class=\"dataframe\">\n",
       "  <thead>\n",
       "    <tr style=\"text-align: right;\">\n",
       "      <th></th>\n",
       "      <th>Mean</th>\n",
       "      <th>STD</th>\n",
       "    </tr>\n",
       "    <tr>\n",
       "      <th>diabetes</th>\n",
       "      <th></th>\n",
       "      <th></th>\n",
       "    </tr>\n",
       "  </thead>\n",
       "  <tbody>\n",
       "    <tr>\n",
       "      <th>no</th>\n",
       "      <td>127.0</td>\n",
       "      <td>3.559026</td>\n",
       "    </tr>\n",
       "    <tr>\n",
       "      <th>yes</th>\n",
       "      <td>142.3</td>\n",
       "      <td>6.848357</td>\n",
       "    </tr>\n",
       "  </tbody>\n",
       "</table>\n",
       "</div>"
      ],
      "text/plain": [
       "           Mean       STD\n",
       "diabetes                 \n",
       "no        127.0  3.559026\n",
       "yes       142.3  6.848357"
      ]
     },
     "execution_count": 86,
     "metadata": {},
     "output_type": "execute_result"
    }
   ],
   "source": [
    "new_df.groupby('diabetes').aggregate( Mean=('systolic BP',\"mean\"), STD = ('systolic BP',\"std\"))"
   ]
  },
  {
   "cell_type": "markdown",
   "metadata": {},
   "source": [
    "(Where `aggfunc` can me 'min', 'sum', 'std', etc., etc.)"
   ]
  },
  {
   "cell_type": "markdown",
   "metadata": {},
   "source": [
    "## Summary"
   ]
  },
  {
   "cell_type": "markdown",
   "metadata": {},
   "source": [
    "In this tutorial, we have covered some key aspects of working with data using pandas data frames. These were:\n",
    "\n",
    "* doing things with data using the methods – the verbs – of pandas objects\n",
    "* accessing subsets of the data with \n",
    "     - square brackets\n",
    "     - the `.loc[]` method\n",
    "     - the `.iloc[]` method\n",
    "* assembling data frames and customizing the index\n",
    "* grouping data and computing summaries using\n",
    "     - `groupby()` and `aggregate()`\n",
    "     - pivot tables"
   ]
  },
  {
   "cell_type": "markdown",
   "metadata": {},
   "source": [
    "## $\\color{blue}{\\text{Complete the following exercise.}}$"
   ]
  },
  {
   "cell_type": "markdown",
   "metadata": {},
   "source": [
    "1. Make a data frame that has\n",
    "    * one categorical variable, \"bilingual\", that splits the data in half (\"yes\" and \"no\")\n",
    "    * two numerical variables, verbal GRE and quant GRE \n",
    "    * (you can build in, or not, whatever effect of bilingual you wish)\n",
    "    * (GRE scores have a mean of about 151 and a std. dev. of about 8.5)\n",
    "2. Set the index to be \"Student 1\", \"Student 2\", etc.\n",
    "3. Do a seaborn plot of verbal GRE vs. bilinguality (is that a word?)\n",
    "4. Make another one of quant GRE vs. bilingual status\n",
    "5. Compute the mean and standard *error* of each score separated by bilingual status (using any method you wish!)"
   ]
  },
  {
   "cell_type": "code",
   "execution_count": 121,
   "metadata": {},
   "outputs": [
    {
     "data": {
      "text/html": [
       "<div>\n",
       "<style scoped>\n",
       "    .dataframe tbody tr th:only-of-type {\n",
       "        vertical-align: middle;\n",
       "    }\n",
       "\n",
       "    .dataframe tbody tr th {\n",
       "        vertical-align: top;\n",
       "    }\n",
       "\n",
       "    .dataframe thead th {\n",
       "        text-align: right;\n",
       "    }\n",
       "</style>\n",
       "<table border=\"1\" class=\"dataframe\">\n",
       "  <thead>\n",
       "    <tr style=\"text-align: right;\">\n",
       "      <th></th>\n",
       "      <th>bilingual</th>\n",
       "      <th>verbal_GRE</th>\n",
       "      <th>quant_GRE</th>\n",
       "    </tr>\n",
       "  </thead>\n",
       "  <tbody>\n",
       "    <tr>\n",
       "      <th>Student 1</th>\n",
       "      <td>yes</td>\n",
       "      <td>331</td>\n",
       "      <td>318</td>\n",
       "    </tr>\n",
       "    <tr>\n",
       "      <th>Student 2</th>\n",
       "      <td>yes</td>\n",
       "      <td>323</td>\n",
       "      <td>337</td>\n",
       "    </tr>\n",
       "    <tr>\n",
       "      <th>Student 3</th>\n",
       "      <td>yes</td>\n",
       "      <td>338</td>\n",
       "      <td>323</td>\n",
       "    </tr>\n",
       "    <tr>\n",
       "      <th>Student 4</th>\n",
       "      <td>yes</td>\n",
       "      <td>323</td>\n",
       "      <td>339</td>\n",
       "    </tr>\n",
       "    <tr>\n",
       "      <th>Student 5</th>\n",
       "      <td>yes</td>\n",
       "      <td>368</td>\n",
       "      <td>325</td>\n",
       "    </tr>\n",
       "    <tr>\n",
       "      <th>Student 6</th>\n",
       "      <td>yes</td>\n",
       "      <td>310</td>\n",
       "      <td>323</td>\n",
       "    </tr>\n",
       "    <tr>\n",
       "      <th>Student 7</th>\n",
       "      <td>yes</td>\n",
       "      <td>343</td>\n",
       "      <td>319</td>\n",
       "    </tr>\n",
       "    <tr>\n",
       "      <th>Student 8</th>\n",
       "      <td>yes</td>\n",
       "      <td>306</td>\n",
       "      <td>334</td>\n",
       "    </tr>\n",
       "    <tr>\n",
       "      <th>Student 9</th>\n",
       "      <td>yes</td>\n",
       "      <td>345</td>\n",
       "      <td>304</td>\n",
       "    </tr>\n",
       "    <tr>\n",
       "      <th>Student 10</th>\n",
       "      <td>yes</td>\n",
       "      <td>349</td>\n",
       "      <td>329</td>\n",
       "    </tr>\n",
       "    <tr>\n",
       "      <th>Student 11</th>\n",
       "      <td>no</td>\n",
       "      <td>333</td>\n",
       "      <td>318</td>\n",
       "    </tr>\n",
       "    <tr>\n",
       "      <th>Student 12</th>\n",
       "      <td>no</td>\n",
       "      <td>327</td>\n",
       "      <td>326</td>\n",
       "    </tr>\n",
       "    <tr>\n",
       "      <th>Student 13</th>\n",
       "      <td>no</td>\n",
       "      <td>370</td>\n",
       "      <td>321</td>\n",
       "    </tr>\n",
       "    <tr>\n",
       "      <th>Student 14</th>\n",
       "      <td>no</td>\n",
       "      <td>303</td>\n",
       "      <td>319</td>\n",
       "    </tr>\n",
       "    <tr>\n",
       "      <th>Student 15</th>\n",
       "      <td>no</td>\n",
       "      <td>338</td>\n",
       "      <td>319</td>\n",
       "    </tr>\n",
       "    <tr>\n",
       "      <th>Student 16</th>\n",
       "      <td>no</td>\n",
       "      <td>350</td>\n",
       "      <td>319</td>\n",
       "    </tr>\n",
       "    <tr>\n",
       "      <th>Student 17</th>\n",
       "      <td>no</td>\n",
       "      <td>367</td>\n",
       "      <td>330</td>\n",
       "    </tr>\n",
       "    <tr>\n",
       "      <th>Student 18</th>\n",
       "      <td>no</td>\n",
       "      <td>354</td>\n",
       "      <td>345</td>\n",
       "    </tr>\n",
       "    <tr>\n",
       "      <th>Student 19</th>\n",
       "      <td>no</td>\n",
       "      <td>366</td>\n",
       "      <td>326</td>\n",
       "    </tr>\n",
       "    <tr>\n",
       "      <th>Student 20</th>\n",
       "      <td>no</td>\n",
       "      <td>367</td>\n",
       "      <td>327</td>\n",
       "    </tr>\n",
       "  </tbody>\n",
       "</table>\n",
       "</div>"
      ],
      "text/plain": [
       "           bilingual  verbal_GRE  quant_GRE\n",
       "Student 1        yes         331        318\n",
       "Student 2        yes         323        337\n",
       "Student 3        yes         338        323\n",
       "Student 4        yes         323        339\n",
       "Student 5        yes         368        325\n",
       "Student 6        yes         310        323\n",
       "Student 7        yes         343        319\n",
       "Student 8        yes         306        334\n",
       "Student 9        yes         345        304\n",
       "Student 10       yes         349        329\n",
       "Student 11        no         333        318\n",
       "Student 12        no         327        326\n",
       "Student 13        no         370        321\n",
       "Student 14        no         303        319\n",
       "Student 15        no         338        319\n",
       "Student 16        no         350        319\n",
       "Student 17        no         367        330\n",
       "Student 18        no         354        345\n",
       "Student 19        no         366        326\n",
       "Student 20        no         367        327"
      ]
     },
     "execution_count": 121,
     "metadata": {},
     "output_type": "execute_result"
    }
   ],
   "source": [
    "num_participant = 20 # total number of participants in the study\n",
    "\n",
    "# create bilingual array\n",
    "bilingual = pd.Series(['yes', 'no'])\n",
    "bilingual = bilingual.repeat(num_participant/2)\n",
    "bilingual = bilingual.reset_index(drop=True)\n",
    "\n",
    "# create verbal and quant GRE arrays for non-bilingual participants\n",
    "verbal_GRE_mono = np.int64(151 + 8.5*np.random.randn(num_patients,))\n",
    "quant_GRE_mono = np.int64(151 + 8.5*np.random.randn(num_patients,))\n",
    "\n",
    "# create verbal and quant GRE arrays for bilingual participants\n",
    "verbal_GRE_bi = np.int64(195 + 15*np.random.randn(num_patients,))\n",
    "quant_GRE_bi = np.int64(175 + 8.5*np.random.randn(num_patients,))\n",
    "\n",
    "# combine verbal and quant GRE arrays for mono and bilingual participants\n",
    "verbal_GRE = verbal_GRE_bi + verbal_GRE_mono\n",
    "quant_GRE = quant_GRE_bi + quant_GRE_mono\n",
    "\n",
    "# create index array\n",
    "index = np.array([])\n",
    "for i in range(1, num_participant + 1):\n",
    "    index = np.append(index, \"Student \" + str(i))\n",
    "\n",
    "# create dictionary to combine arrays\n",
    "df_dict = {'bilingual': bilingual, 'verbal_GRE': verbal_GRE, 'quant_GRE' : quant_GRE}\n",
    "bilingual_GRE = pd.DataFrame(df_dict)\n",
    "bilingual_GRE.index = index # specify index\n",
    "bilingual_GRE"
   ]
  },
  {
   "cell_type": "code",
   "execution_count": 122,
   "metadata": {},
   "outputs": [
    {
     "data": {
      "text/plain": [
       "<seaborn.axisgrid.FacetGrid at 0x210fb22ddc0>"
      ]
     },
     "execution_count": 122,
     "metadata": {},
     "output_type": "execute_result"
    },
    {
     "data": {
      "image/png": "[encoded data removed]",
      "text/plain": [
       "<Figure size 360x360 with 1 Axes>"
      ]
     },
     "metadata": {
      "needs_background": "light"
     },
     "output_type": "display_data"
    },
    {
     "data": {
      "image/png": "[encoded data removed]",
      "text/plain": [
       "<Figure size 360x360 with 1 Axes>"
      ]
     },
     "metadata": {
      "needs_background": "light"
     },
     "output_type": "display_data"
    }
   ],
   "source": [
    "# plot verbal GRE vs. bilinguality\n",
    "sns.catplot(data=bilingual_GRE, x='bilingual', y='verbal_GRE')\n",
    "sns.catplot(data=bilingual_GRE, x='bilingual', y='verbal_GRE', kind='bar')"
   ]
  },
  {
   "cell_type": "code",
   "execution_count": 123,
   "metadata": {},
   "outputs": [
    {
     "data": {
      "text/plain": [
       "<seaborn.axisgrid.FacetGrid at 0x210fb21efa0>"
      ]
     },
     "execution_count": 123,
     "metadata": {},
     "output_type": "execute_result"
    },
    {
     "data": {
      "image/png": "[encoded data removed]",
      "text/plain": [
       "<Figure size 360x360 with 1 Axes>"
      ]
     },
     "metadata": {
      "needs_background": "light"
     },
     "output_type": "display_data"
    },
    {
     "data": {
      "image/png": "[encoded data removed]",
      "text/plain": [
       "<Figure size 360x360 with 1 Axes>"
      ]
     },
     "metadata": {
      "needs_background": "light"
     },
     "output_type": "display_data"
    }
   ],
   "source": [
    "# plot quant GRE vs. bilingual status\n",
    "sns.catplot(data=bilingual_GRE, x='bilingual', y='quant_GRE')\n",
    "sns.catplot(data=bilingual_GRE, x='bilingual', y='quant_GRE', kind='bar')"
   ]
  },
  {
   "cell_type": "code",
   "execution_count": 124,
   "metadata": {},
   "outputs": [
    {
     "name": "stdout",
     "output_type": "stream",
     "text": [
      "VERBAL GRE\n",
      "            Mean        STD\n",
      "bilingual                  \n",
      "no         347.5  22.006312\n",
      "yes        333.6  18.880913\n",
      "\n",
      "QUANTITIAVE GRE\n",
      "            Mean        STD\n",
      "bilingual                  \n",
      "no         325.0   8.192137\n",
      "yes        325.1  10.386423\n"
     ]
    }
   ],
   "source": [
    "# compute mean and standard error of verbal and quant GRE, separated by bilingual status\n",
    "print(\"VERBAL GRE\")\n",
    "print(bilingual_GRE.groupby('bilingual').aggregate( Mean=('verbal_GRE',\"mean\"), STD = ('verbal_GRE',\"std\")))\n",
    "print(\"\\nQUANTITIAVE GRE\")\n",
    "print(bilingual_GRE.groupby('bilingual').aggregate( Mean=('quant_GRE',\"mean\"), STD = ('quant_GRE',\"std\")))"
   ]
  }
 ],
 "metadata": {
  "interpreter": {
   "hash": "cd78fef2128015050713e82ca51c6520b11aee7c9ee8df750520bbbc7384cbaa"
  },
  "kernelspec": {
   "display_name": "Python 3 (ipykernel)",
   "language": "python",
   "name": "python3"
  },
  "language_info": {
   "codemirror_mode": {
    "name": "ipython",
    "version": 3
   },
   "file_extension": ".py",
   "mimetype": "text/x-python",
   "name": "python",
   "nbconvert_exporter": "python",
   "pygments_lexer": "ipython3",
   "version": "3.9.12"
  }
 },
 "nbformat": 4,
 "nbformat_minor": 2
}
