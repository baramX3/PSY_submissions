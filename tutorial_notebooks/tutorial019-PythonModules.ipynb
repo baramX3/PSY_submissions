{
 "cells": [
  {
   "cell_type": "markdown",
   "id": "57eedfd7",
   "metadata": {},
   "source": [
    "# Writing your own python modules"
   ]
  },
  {
   "cell_type": "markdown",
   "id": "d61788bd",
   "metadata": {},
   "source": [
    "You will soon realize that for every project there are always a few lines of code that end up being extremely helpful and handy to keeparound. These lines end up being the ones applied multiple times and for multiple purpuses. \n",
    "\n",
    "Repeating operations and reusing lines of code is key to programming. "
   ]
  },
  {
   "cell_type": "markdown",
   "id": "f8dd2c83",
   "metadata": {},
   "source": [
    "In this tutorial we will learn how to write python [modules](https://docs.python.org/3/tutorial/modules.html). A module is nothing more than a file (ending in `.py`) containing collection of functions. A module can be as simple as containing a few functions, or as complicated as `numpy` or `seaborn`."
   ]
  },
  {
   "cell_type": "markdown",
   "id": "e00451c8",
   "metadata": {},
   "source": [
    "We have learned so far how to write functions. Functions are a handy way to reuse the same lines of code.\n",
    "\n",
    "As the data science projects become more complex, or you become more expert at data science projects, the number of functions that end up needing to be carried around can grow fast. \n",
    "\n",
    "For any sizable project, the number of functions needed to be kept around is larger than the number of functions we are willing to copy and paste in every new script or jupyter notebook."
   ]
  },
  {
   "cell_type": "markdown",
   "id": "8fe3dee3",
   "metadata": {},
   "source": [
    "To avoid copying an pasting dozens of functions we can use python modules. Modules are collections of functions (and other python assertions, such as variables definitions) in a file saved on the current path accessible to `python`. \n",
    "\n",
    "Just like functions facilitate reusing dozens of lines of code, modules facilitates reusing dozens of functions."
   ]
  },
  {
   "cell_type": "markdown",
   "id": "c2e6d2d5",
   "metadata": {},
   "source": [
    "### Learning goals:\n",
    "\n",
    "* Understanding Python Modules\n",
    "* Practice building Python Modules\n",
    "* grouped data: aggregation and pivot tables"
   ]
  },
  {
   "cell_type": "markdown",
   "id": "8d9e3cf5",
   "metadata": {},
   "source": [
    "--- "
   ]
  },
  {
   "cell_type": "markdown",
   "id": "733f93c4",
   "metadata": {},
   "source": [
    "## Our first module"
   ]
  },
  {
   "cell_type": "markdown",
   "id": "daa9c929",
   "metadata": {},
   "source": [
    "Python offers a convenient way to keep useful code and functions around by writing and importing modules. \n",
    "\n",
    "*What is a module?* Python modules are libraries of functions. We have encountered modules all along our tutorials. Indeed everytime we were invoking an `import` statement we were effectively loading a module.\n",
    "\n",
    "*How is a module defined?* A module is a python file (ending with exstension `.py`) with a series of functions definitions (i.e., statement starting with `def`) they live in the current path where your python code isrunning and because of that it can be imported.\n",
    "\n",
    "*How does a module work?* Python allows importing any `.py` file containing `def` statements. Importing a module file makes the functions in the file callable and usable (for example in Jupyter notebook). "
   ]
  },
  {
   "cell_type": "markdown",
   "id": "63d5c74f",
   "metadata": {},
   "source": [
    "### How to write a python module \n",
    "\n",
    "Let's learn how to write and use Python modules! (we will start simple.)\n",
    "\n",
    "In a nutshell, the general process to write and use a python modules can be summarized as follows:\n",
    "\n",
    "**To write a module we need to:**\n",
    "A) Create a file with exstension `.py`.\n",
    "B) Write functions inside the file.\n",
    "C) Save the file on the path accessible to python (for simplicity say the current working directory).\n",
    "\n",
    "**To use python modules we need to:**\n",
    "A) Make sure the module is in the current working directory.\n",
    "B) import the module by typing `import` and `<moduleName>`\n",
    "C) Call the functions in the module withthe syntax `moduleName.functionName`"
   ]
  },
  {
   "cell_type": "markdown",
   "id": "a6334c07",
   "metadata": {},
   "source": [
    "### MyModule\n",
    "\n",
    "Hereafter, we will practice with the process described above. Write a module and then import and use the module. \n",
    "\n",
    "This means that we will write a file outside this jupyter notebook. This is something we have not done before and might feel a bit awkward (are we really leaving our safe `Jupyter Notebooks` heaven? Yes).\n",
    "\n",
    "Just as a heads start, our module will be called `mymodule`. The module will contain a function that will print the first few words of [Billie Eilish's song \"Ocean Eyes\"](https://www.youtube.com/watch?v=viimfQi_pUw&ab_channel=BillieEilish).\n",
    "\n",
    "So, to learn how to create a module, we will perform the following exercise.\n",
    "\n",
    "  - Open a new Jupyter Notebook (from the File menu, select \"New Notebook\"\n",
    "  \n",
    "<img src=\"./assets/jnb019/open_new_notebook.jpg\" alt=\"Drawing\" style=\"width: 300px;\"/>\n",
    "  \n",
    "  - Edit the name of the new notebook and rename it from \"untitled\"  `mymodule`\n",
    "  \n",
    "<img src=\"./assets/jnb019/rename_jupyter_notebook.jpg\" alt=\"Drawing\" style=\"width: 400px;\"/>\n",
    "  \n",
    "  - Copy and paste the code for the function provided below (`OceanEyes`) into the `mymodule` Jupyter Notebook. Note. Only create a single cell in the new notebook. Make sure no other cell is there.\n",
    "  \n",
    "<img src=\"./assets/jnb019/paste_function_code.jpg\" alt=\"Drawing\" style=\"width: 400px;\"/>\n",
    "\n",
    "  - Download the `mymodule` notebook into the current directory with the `.py` file exstension. To do so, from the File menu navigate to \"Downloads as\" and select the file type \"Python *.py*.\"\n",
    "  \n",
    "<img src=\"./assets/jnb019/download_module.jpg\" alt=\"Drawing\" style=\"width: 400px;\"/>\n",
    " \n",
    "  - Save the file in the same directory of the current tutorial."
   ]
  },
  {
   "cell_type": "code",
   "execution_count": 1,
   "id": "0da08070",
   "metadata": {},
   "outputs": [],
   "source": [
    "def OceanEyes():\n",
    "    print('Can''t stop starin'' at those ocean eyes')"
   ]
  },
  {
   "cell_type": "markdown",
   "id": "b6c36888",
   "metadata": {},
   "source": [
    "Alright, after following the instructions above, and if all went well, we should be ready to load the module and use its function.\n",
    "\n",
    "To load the module we will tell python to import it. This is a simple as running the following statements:"
   ]
  },
  {
   "cell_type": "code",
   "execution_count": 4,
   "id": "2e03b2f5",
   "metadata": {},
   "outputs": [],
   "source": [
    "import mymodule"
   ]
  },
  {
   "cell_type": "markdown",
   "id": "76e2b8b3",
   "metadata": {},
   "source": [
    "If the previos cell executed withouterrors the module is loaded! \n",
    "(If error were returned, please read the errors and try to repeatthe previous steps.)"
   ]
  },
  {
   "cell_type": "markdown",
   "id": "b3503463",
   "metadata": {},
   "source": [
    "Next, let's use the module! The module we created will \"only\" print the first few words of a song. But let's it.\n",
    "\n",
    "Our module is called is just like any other modules we have used before. For example, we have used `Pandas`, and `Numpy`, those are also modules. "
   ]
  },
  {
   "cell_type": "markdown",
   "id": "6e5c38bc",
   "metadata": {},
   "source": [
    "So, let's  take a look at our syntax! Our module is called `mymodule` and the function it contains `OceanEyes` so the call goes as follows"
   ]
  },
  {
   "cell_type": "code",
   "execution_count": 5,
   "id": "7db0c72a",
   "metadata": {},
   "outputs": [
    {
     "name": "stdout",
     "output_type": "stream",
     "text": [
      "Cant stop starin at those ocean eyes\n"
     ]
    }
   ],
   "source": [
    "mymodule.OceanEyes()"
   ]
  },
  {
   "cell_type": "markdown",
   "id": "d3f937fe",
   "metadata": {},
   "source": [
    "Did you get it? Did you get the words from the song? If you did, congratulations you just wrote a python module.\n",
    "\n",
    "More complex modules just contains more functions, more complex functions etc. Butthe process (given what we have covered so far) can be summarized as above."
   ]
  },
  {
   "cell_type": "markdown",
   "id": "24f91f37",
   "metadata": {},
   "source": [
    "$\\color{blue}{\\text{Complete the following exercise.}}$\n",
    "\n",
    "  - Make your module:\n",
    "       - Pick a song you like\n",
    "       - Make a new python module that is called with the first two words in the title of the song\n",
    "       - When invoked, the module should print the first phrase of the song you picked\n",
    "       - Import the module and show it works\n"
   ]
  },
  {
   "cell_type": "code",
   "execution_count": 12,
   "id": "009b4da4",
   "metadata": {},
   "outputs": [
    {
     "name": "stdout",
     "output_type": "stream",
     "text": [
      "'Cause I-I-I'm in the stars tonight\n"
     ]
    }
   ],
   "source": [
    "import Dynamite\n",
    "Dynamite.Dynamite()"
   ]
  },
  {
   "cell_type": "markdown",
   "id": "deb23f27",
   "metadata": {},
   "source": [
    "### More about modules"
   ]
  },
  {
   "cell_type": "markdown",
   "id": "2463b6e4",
   "metadata": {},
   "source": [
    "Note now that, the file name is also the name of the module (`mymodule`). The file name has the suffix `.py` appended, that suffix is not used in the code, when calling the module (in other words we do not `import mymodule.py` but we `import mymodule`). "
   ]
  },
  {
   "cell_type": "markdown",
   "id": "d9d56ecd",
   "metadata": {},
   "source": [
    "The name for modules imported in the current workspace is always available as the value of the global variable __name__ (a string). \n",
    "\n",
    "We can extract the module name into a string as follows:"
   ]
  },
  {
   "cell_type": "code",
   "execution_count": 13,
   "id": "acaceac1",
   "metadata": {},
   "outputs": [
    {
     "data": {
      "text/plain": [
       "'mymodule'"
      ]
     },
     "execution_count": 13,
     "metadata": {},
     "output_type": "execute_result"
    }
   ],
   "source": [
    "mymodule.__name__ "
   ]
  },
  {
   "cell_type": "markdown",
   "id": "ed77b928",
   "metadata": {},
   "source": [
    "Just like we have done in the past with Pandas and Numpy also our module can be imported with a different (shorter) name:|"
   ]
  },
  {
   "cell_type": "code",
   "execution_count": 14,
   "id": "de2fbbae",
   "metadata": {},
   "outputs": [],
   "source": [
    "import mymodule as mm"
   ]
  },
  {
   "cell_type": "markdown",
   "id": "4e7c8678",
   "metadata": {},
   "source": [
    "Now the function in mymodule should be called using `mm`, give it a try:"
   ]
  },
  {
   "cell_type": "code",
   "execution_count": 15,
   "id": "b3a70ef2",
   "metadata": {},
   "outputs": [
    {
     "name": "stdout",
     "output_type": "stream",
     "text": [
      "Cant stop starin at those ocean eyes\n"
     ]
    }
   ],
   "source": [
    "mm.OceanEyes()"
   ]
  },
  {
   "cell_type": "markdown",
   "id": "9fc60239",
   "metadata": {},
   "source": [
    "Functions inside a module can be imported directly and assigned a callable name. We have seen this before ..."
   ]
  },
  {
   "cell_type": "code",
   "execution_count": 17,
   "id": "a7e6fd92",
   "metadata": {},
   "outputs": [],
   "source": [
    "from mymodule import OceanEyes as oe "
   ]
  },
  {
   "cell_type": "markdown",
   "id": "38f925fb",
   "metadata": {},
   "source": [
    "Now we can call the function directly, avoiding the sintax `mymodule.<functionName>`. Try the following, it should work:"
   ]
  },
  {
   "cell_type": "code",
   "execution_count": 18,
   "id": "f91eada5",
   "metadata": {},
   "outputs": [
    {
     "name": "stdout",
     "output_type": "stream",
     "text": [
      "Cant stop starin at those ocean eyes\n"
     ]
    }
   ],
   "source": [
    "oe()"
   ]
  },
  {
   "cell_type": "markdown",
   "id": "49e6b886",
   "metadata": {},
   "source": [
    "#### Let's break this\n",
    "\n",
    "OK now let's try something that should breakthings for us, but perhaps also help us understand. Move the file `mymodule.py` out of the current directly, for example, move it to your desktop instead.\n",
    "\n",
    "After doing that try importing the module again."
   ]
  },
  {
   "cell_type": "code",
   "execution_count": null,
   "id": "5e1c92ea",
   "metadata": {},
   "outputs": [],
   "source": [
    "import mymodule"
   ]
  },
  {
   "cell_type": "markdown",
   "id": "d13106fb",
   "metadata": {},
   "source": [
    "Did that work? Why?\n",
    "\n",
    "It didn't work because the mymodule is no longer in the directory (i.e., this python tutorial can't locate the mymodule file to run)."
   ]
  },
  {
   "cell_type": "markdown",
   "id": "2e68b95d",
   "metadata": {},
   "source": [
    "#### Modules can import other modules. \n",
    "\n",
    "It is possible to add import operations inside a module. Say for example you want to load `Numpy` every time you load your module. You could add `import numpy as np` at the beginning of your module and the module will automatically add numpy to your current workspace as soon as you call your module. "
   ]
  },
  {
   "cell_type": "markdown",
   "id": "27ba29f1",
   "metadata": {},
   "source": [
    "#### The standard modules in Python\n",
    "\n",
    "Python comes with a library of modules called standard: The [python standard modules lbrary](https://docs.python.org/3/library/). These modules are shipped with the Python3 distribution. This means that you can simply import them without saving, or moving files. The files are pythonmagically there for you.\n",
    "\n",
    "A list of standard modules can be found [here](https://docs.python.org/3/py-modindex.html). The lis "
   ]
  },
  {
   "cell_type": "markdown",
   "id": "3c98200b",
   "metadata": {},
   "source": [
    "### In sum\n",
    "\n",
    "Write python modules is as easy as writing a file ending with the `.py` exstension. The file should contain function definitions. The file could also contain variables definitions or other code statements, an aspect of modules that we have not experimented with in this tutorial."
   ]
  },
  {
   "cell_type": "markdown",
   "id": "4aa62bb0",
   "metadata": {},
   "source": [
    "## Make the best rat lab module\n",
    "\n",
    "To practice with modules we will make an exercise and make a module out of the code from a previous tutorial. \n",
    "\n",
    "Your goal will be to take these functions save as a the module and demonstrate that it runs from within this jupyter notebook "
   ]
  },
  {
   "cell_type": "markdown",
   "id": "01e8f2cd",
   "metadata": {},
   "source": [
    "First of all we will break down the code into the basic steps and make one function per step. After that, we will make a module, save it to disk and call it to use the function.\n",
    "\n",
    "Let's get started."
   ]
  },
  {
   "cell_type": "markdown",
   "id": "dabab21d",
   "metadata": {},
   "source": [
    "In a previous tutorial, we loaded data from files given to us from a lab and performed a series of operations to reorganize the data into a Tidy Data Format. In that tutorial (Tutorial 17 using 'datasets/017DataFile.csv') we performed four independent operations to reorganzie the data.\n",
    "\n",
    "  - We loaded reaction time data into a specific format.\n",
    "  \n",
    "  - We organized the labels for the strains of rats into the appropriate format for the data.\n",
    "  \n",
    "  - We organized the labels for the sexes of rats into the appropriate format for the data.\n",
    "  \n",
    "  - We combined the data and labels into a tidy format (one colum per variable/label)"
   ]
  },
  {
   "cell_type": "markdown",
   "id": "3ca2cdb9",
   "metadata": {},
   "source": [
    "Below we have four functions written to implement the operations described above and used in the previous tutorial. These functions can now be conveniently called multiple times within this Jupyter notebook. Yet, to call the functions in a new notebooks, or in future (many) notebooks, they must be copied and pasted into each new Jupyter notebook. Boring...\n",
    "\n",
    "Wouldn't it be easier if we could call them directly from a module? Let's do this."
   ]
  },
  {
   "cell_type": "markdown",
   "id": "0c36ddf2",
   "metadata": {},
   "source": [
    "Below we first describe how we functionalized the code from the previous tutorial. We describe each function and what it does and then use them after loading the data.\n",
    "\n",
    "After that, we will open a new notebook and save it as a module. We will then repeat the data processing performed with the functions by loading the module we just created."
   ]
  },
  {
   "cell_type": "code",
   "execution_count": null,
   "id": "ac91ad63",
   "metadata": {},
   "outputs": [],
   "source": [
    "def get_data(filename) :\n",
    "    '''\n",
    "    get_data() \n",
    "    Loads the data from a filename.\n",
    "    Organizes the data and retunrs key data values\n",
    "    '''\n",
    "    import numpy as np\n",
    "    import pandas as pd\n",
    "    \n",
    "    my_input_data = pd.read_csv(filename)  # read the data\n",
    "\n",
    "    raw_data   = my_input_data.to_numpy()                    # convert to numpy array\n",
    "    obs, grps  = raw_data.shape                              # get the number of rows and columns\n",
    "    new_length = obs*grps                                    # compute total number of observations\n",
    "    values_col = np.reshape(raw_data, (new_length, 1), \n",
    "                            order = 'F')                     # reshape the array\n",
    "    values_col = np.squeeze(values_col)                      # squeeze to make 1D\n",
    "\n",
    "    return values_col, obs"
   ]
  },
  {
   "cell_type": "code",
   "execution_count": null,
   "id": "d153bfd8",
   "metadata": {},
   "outputs": [],
   "source": [
    "def get_strains(obs=10, names=['wildtype', 'mutant']) :\n",
    "    '''\n",
    "    get_strains() \n",
    "    Takes names of rat types (e.g., names=['wildtype', 'mutant']) and \n",
    "    the number of observation per group (obs_per_grp=10).\n",
    "    Returns the variable `strain` containing.\n",
    "    User specifies a filename string.\n",
    "    '''\n",
    "    import pandas as pd\n",
    " \n",
    "    strain = pd.Series(names)                   # make the short series\n",
    "    strain = strain.repeat([2*obs])     # repeat each over two cell's worth of data\n",
    "    strain = strain.reset_index(drop=True)      # reset the series's index value\n",
    "    \n",
    "    return strain"
   ]
  },
  {
   "cell_type": "code",
   "execution_count": null,
   "id": "38eb26d6",
   "metadata": {},
   "outputs": [],
   "source": [
    "def get_sexes(obs, sexLabels=['male', 'female']) :\n",
    "    '''\n",
    "    tidyMyData() Takes one-column-per-cell rat reaction time data as input.\n",
    "    Returns tidy one-column-per-variable data.\n",
    "    User specifies a filename string.\n",
    "    '''\n",
    "    import pandas as pd\n",
    " \n",
    "    sexes = pd.Series(sexLabels)                      # make the short series\n",
    "    sexes = sexes.repeat(obs)                 # repeat each over one cell's worth of data\n",
    "    sexes = pd.concat([sexes]*2, ignore_index=True)   # stack or \"concatonate\" two copies\n",
    "    \n",
    "    return sexes"
   ]
  },
  {
   "cell_type": "code",
   "execution_count": null,
   "id": "3fecd832",
   "metadata": {},
   "outputs": [],
   "source": [
    "def tidy_data(values_col,strain,sexes) :\n",
    "    '''\n",
    "    tidyMyData() Takes \n",
    "    1. A one-column-per-cell rat reaction time data (values_col).\n",
    "    2. A sexes variables labelling each entry in values_col by rat-sex\n",
    "    3. A strain variable labelling entries in values_col by rat strain\n",
    "    \n",
    "    Returns one-column-per-variable data adhering to the tidy format.\n",
    "    \n",
    "    '''\n",
    "    \n",
    "    import pandas as pd\n",
    "\n",
    "    # construct the data frame\n",
    "    my_new_tidy_data = pd.DataFrame(\n",
    "        {\n",
    "            \"RTs\": values_col,                               # make a column named RTs and put the values in\n",
    "            \"sex\": sexes,                                    # ditto for sex\n",
    "            \"strain\": strain                                 # and for genetic strain\n",
    "        }    \n",
    "    )\n",
    "    \n",
    "    return my_new_tidy_data"
   ]
  },
  {
   "cell_type": "markdown",
   "id": "56fc939a",
   "metadata": {},
   "source": [
    "$\\color{blue}{\\text{Complete the following exercise.}}$\n",
    "\n",
    "  - Your goal is to make a module called `bestratlab.py` out of the above functions and to demonstrate that it can run from this notebook."
   ]
  },
  {
   "cell_type": "code",
   "execution_count": 39,
   "id": "9696e9ab",
   "metadata": {},
   "outputs": [
    {
     "name": "stdout",
     "output_type": "stream",
     "text": [
      "[10.48545088 11.74794775 13.41258004 12.91009526 10.36777045 11.69842177\n",
      " 11.58315277 11.44734892 10.85227619 11.28589742  8.2500131   8.45383932\n",
      "  9.70660484  9.52211638  8.58321246  9.83500171 10.53209602  9.39416641\n",
      "  8.73947266 10.89239399 20.12706278 20.06814699 21.21514789 20.70641578\n",
      " 18.07479515 20.36762403 20.15252058 19.39247581 18.52434071 20.32502629\n",
      " 25.94638414 23.46487013 22.98948034 25.32437595 22.60748688 23.05218737\n",
      " 25.3690367  23.37270897 25.21564644 24.99050453]\n"
     ]
    },
    {
     "ename": "ValueError",
     "evalue": "All arrays must be of the same length",
     "output_type": "error",
     "traceback": [
      "\u001b[1;31m---------------------------------------------------------------------------\u001b[0m",
      "\u001b[1;31mValueError\u001b[0m                                Traceback (most recent call last)",
      "Input \u001b[1;32mIn [39]\u001b[0m, in \u001b[0;36m<cell line: 8>\u001b[1;34m()\u001b[0m\n\u001b[0;32m      6\u001b[0m sexes \u001b[38;5;241m=\u001b[39m blr\u001b[38;5;241m.\u001b[39mget_sexes(obs)\n\u001b[0;32m      7\u001b[0m \u001b[38;5;66;03m#print(sexes)\u001b[39;00m\n\u001b[1;32m----> 8\u001b[0m final_data \u001b[38;5;241m=\u001b[39m \u001b[43mblr\u001b[49m\u001b[38;5;241;43m.\u001b[39;49m\u001b[43mtidy_data\u001b[49m\u001b[43m(\u001b[49m\u001b[43mvalues_col\u001b[49m\u001b[43m,\u001b[49m\u001b[43mstrain\u001b[49m\u001b[43m,\u001b[49m\u001b[43msexes\u001b[49m\u001b[43m)\u001b[49m\n",
      "File \u001b[1;32m~\\OneDrive - The University of Texas at Austin\\_2022 FALL\\PSY 371\\git\\submissions\\tutorial_notebooks\\bestlabrat.py:83\u001b[0m, in \u001b[0;36mtidy_data\u001b[1;34m(values_col, strain, sexes)\u001b[0m\n\u001b[0;32m     80\u001b[0m \u001b[38;5;28;01mimport\u001b[39;00m \u001b[38;5;21;01mpandas\u001b[39;00m \u001b[38;5;28;01mas\u001b[39;00m \u001b[38;5;21;01mpd\u001b[39;00m\n\u001b[0;32m     82\u001b[0m \u001b[38;5;66;03m# construct the data frame\u001b[39;00m\n\u001b[1;32m---> 83\u001b[0m my_new_tidy_data \u001b[38;5;241m=\u001b[39m \u001b[43mpd\u001b[49m\u001b[38;5;241;43m.\u001b[39;49m\u001b[43mDataFrame\u001b[49m\u001b[43m(\u001b[49m\n\u001b[0;32m     84\u001b[0m \u001b[43m    \u001b[49m\u001b[43m{\u001b[49m\n\u001b[0;32m     85\u001b[0m \u001b[43m        \u001b[49m\u001b[38;5;124;43m\"\u001b[39;49m\u001b[38;5;124;43mRTs\u001b[39;49m\u001b[38;5;124;43m\"\u001b[39;49m\u001b[43m:\u001b[49m\u001b[43m \u001b[49m\u001b[43mvalues_col\u001b[49m\u001b[43m,\u001b[49m\u001b[43m                               \u001b[49m\u001b[38;5;66;43;03m# make a column named RTs and put the values in\u001b[39;49;00m\n\u001b[0;32m     86\u001b[0m \u001b[43m        \u001b[49m\u001b[38;5;124;43m\"\u001b[39;49m\u001b[38;5;124;43msex\u001b[39;49m\u001b[38;5;124;43m\"\u001b[39;49m\u001b[43m:\u001b[49m\u001b[43m \u001b[49m\u001b[43msexes\u001b[49m\u001b[43m,\u001b[49m\u001b[43m                                    \u001b[49m\u001b[38;5;66;43;03m# ditto for sex\u001b[39;49;00m\n\u001b[0;32m     87\u001b[0m \u001b[43m        \u001b[49m\u001b[38;5;124;43m\"\u001b[39;49m\u001b[38;5;124;43mstrain\u001b[39;49m\u001b[38;5;124;43m\"\u001b[39;49m\u001b[43m:\u001b[49m\u001b[43m \u001b[49m\u001b[43mstrain\u001b[49m\u001b[43m                                 \u001b[49m\u001b[38;5;66;43;03m# and for genetic strain\u001b[39;49;00m\n\u001b[0;32m     88\u001b[0m \u001b[43m    \u001b[49m\u001b[43m}\u001b[49m\u001b[43m    \u001b[49m\n\u001b[0;32m     89\u001b[0m \u001b[43m\u001b[49m\u001b[43m)\u001b[49m\n\u001b[0;32m     91\u001b[0m \u001b[38;5;28;01mreturn\u001b[39;00m my_new_tidy_data\n",
      "File \u001b[1;32m~\\anaconda3\\lib\\site-packages\\pandas\\core\\frame.py:636\u001b[0m, in \u001b[0;36mDataFrame.__init__\u001b[1;34m(self, data, index, columns, dtype, copy)\u001b[0m\n\u001b[0;32m    630\u001b[0m     mgr \u001b[38;5;241m=\u001b[39m \u001b[38;5;28mself\u001b[39m\u001b[38;5;241m.\u001b[39m_init_mgr(\n\u001b[0;32m    631\u001b[0m         data, axes\u001b[38;5;241m=\u001b[39m{\u001b[38;5;124m\"\u001b[39m\u001b[38;5;124mindex\u001b[39m\u001b[38;5;124m\"\u001b[39m: index, \u001b[38;5;124m\"\u001b[39m\u001b[38;5;124mcolumns\u001b[39m\u001b[38;5;124m\"\u001b[39m: columns}, dtype\u001b[38;5;241m=\u001b[39mdtype, copy\u001b[38;5;241m=\u001b[39mcopy\n\u001b[0;32m    632\u001b[0m     )\n\u001b[0;32m    634\u001b[0m \u001b[38;5;28;01melif\u001b[39;00m \u001b[38;5;28misinstance\u001b[39m(data, \u001b[38;5;28mdict\u001b[39m):\n\u001b[0;32m    635\u001b[0m     \u001b[38;5;66;03m# GH#38939 de facto copy defaults to False only in non-dict cases\u001b[39;00m\n\u001b[1;32m--> 636\u001b[0m     mgr \u001b[38;5;241m=\u001b[39m \u001b[43mdict_to_mgr\u001b[49m\u001b[43m(\u001b[49m\u001b[43mdata\u001b[49m\u001b[43m,\u001b[49m\u001b[43m \u001b[49m\u001b[43mindex\u001b[49m\u001b[43m,\u001b[49m\u001b[43m \u001b[49m\u001b[43mcolumns\u001b[49m\u001b[43m,\u001b[49m\u001b[43m \u001b[49m\u001b[43mdtype\u001b[49m\u001b[38;5;241;43m=\u001b[39;49m\u001b[43mdtype\u001b[49m\u001b[43m,\u001b[49m\u001b[43m \u001b[49m\u001b[43mcopy\u001b[49m\u001b[38;5;241;43m=\u001b[39;49m\u001b[43mcopy\u001b[49m\u001b[43m,\u001b[49m\u001b[43m \u001b[49m\u001b[43mtyp\u001b[49m\u001b[38;5;241;43m=\u001b[39;49m\u001b[43mmanager\u001b[49m\u001b[43m)\u001b[49m\n\u001b[0;32m    637\u001b[0m \u001b[38;5;28;01melif\u001b[39;00m \u001b[38;5;28misinstance\u001b[39m(data, ma\u001b[38;5;241m.\u001b[39mMaskedArray):\n\u001b[0;32m    638\u001b[0m     \u001b[38;5;28;01mimport\u001b[39;00m \u001b[38;5;21;01mnumpy\u001b[39;00m\u001b[38;5;21;01m.\u001b[39;00m\u001b[38;5;21;01mma\u001b[39;00m\u001b[38;5;21;01m.\u001b[39;00m\u001b[38;5;21;01mmrecords\u001b[39;00m \u001b[38;5;28;01mas\u001b[39;00m \u001b[38;5;21;01mmrecords\u001b[39;00m\n",
      "File \u001b[1;32m~\\anaconda3\\lib\\site-packages\\pandas\\core\\internals\\construction.py:502\u001b[0m, in \u001b[0;36mdict_to_mgr\u001b[1;34m(data, index, columns, dtype, typ, copy)\u001b[0m\n\u001b[0;32m    494\u001b[0m     arrays \u001b[38;5;241m=\u001b[39m [\n\u001b[0;32m    495\u001b[0m         x\n\u001b[0;32m    496\u001b[0m         \u001b[38;5;28;01mif\u001b[39;00m \u001b[38;5;129;01mnot\u001b[39;00m \u001b[38;5;28mhasattr\u001b[39m(x, \u001b[38;5;124m\"\u001b[39m\u001b[38;5;124mdtype\u001b[39m\u001b[38;5;124m\"\u001b[39m) \u001b[38;5;129;01mor\u001b[39;00m \u001b[38;5;129;01mnot\u001b[39;00m \u001b[38;5;28misinstance\u001b[39m(x\u001b[38;5;241m.\u001b[39mdtype, ExtensionDtype)\n\u001b[0;32m    497\u001b[0m         \u001b[38;5;28;01melse\u001b[39;00m x\u001b[38;5;241m.\u001b[39mcopy()\n\u001b[0;32m    498\u001b[0m         \u001b[38;5;28;01mfor\u001b[39;00m x \u001b[38;5;129;01min\u001b[39;00m arrays\n\u001b[0;32m    499\u001b[0m     ]\n\u001b[0;32m    500\u001b[0m     \u001b[38;5;66;03m# TODO: can we get rid of the dt64tz special case above?\u001b[39;00m\n\u001b[1;32m--> 502\u001b[0m \u001b[38;5;28;01mreturn\u001b[39;00m \u001b[43marrays_to_mgr\u001b[49m\u001b[43m(\u001b[49m\u001b[43marrays\u001b[49m\u001b[43m,\u001b[49m\u001b[43m \u001b[49m\u001b[43mcolumns\u001b[49m\u001b[43m,\u001b[49m\u001b[43m \u001b[49m\u001b[43mindex\u001b[49m\u001b[43m,\u001b[49m\u001b[43m \u001b[49m\u001b[43mdtype\u001b[49m\u001b[38;5;241;43m=\u001b[39;49m\u001b[43mdtype\u001b[49m\u001b[43m,\u001b[49m\u001b[43m \u001b[49m\u001b[43mtyp\u001b[49m\u001b[38;5;241;43m=\u001b[39;49m\u001b[43mtyp\u001b[49m\u001b[43m,\u001b[49m\u001b[43m \u001b[49m\u001b[43mconsolidate\u001b[49m\u001b[38;5;241;43m=\u001b[39;49m\u001b[43mcopy\u001b[49m\u001b[43m)\u001b[49m\n",
      "File \u001b[1;32m~\\anaconda3\\lib\\site-packages\\pandas\\core\\internals\\construction.py:120\u001b[0m, in \u001b[0;36marrays_to_mgr\u001b[1;34m(arrays, columns, index, dtype, verify_integrity, typ, consolidate)\u001b[0m\n\u001b[0;32m    117\u001b[0m \u001b[38;5;28;01mif\u001b[39;00m verify_integrity:\n\u001b[0;32m    118\u001b[0m     \u001b[38;5;66;03m# figure out the index, if necessary\u001b[39;00m\n\u001b[0;32m    119\u001b[0m     \u001b[38;5;28;01mif\u001b[39;00m index \u001b[38;5;129;01mis\u001b[39;00m \u001b[38;5;28;01mNone\u001b[39;00m:\n\u001b[1;32m--> 120\u001b[0m         index \u001b[38;5;241m=\u001b[39m \u001b[43m_extract_index\u001b[49m\u001b[43m(\u001b[49m\u001b[43marrays\u001b[49m\u001b[43m)\u001b[49m\n\u001b[0;32m    121\u001b[0m     \u001b[38;5;28;01melse\u001b[39;00m:\n\u001b[0;32m    122\u001b[0m         index \u001b[38;5;241m=\u001b[39m ensure_index(index)\n",
      "File \u001b[1;32m~\\anaconda3\\lib\\site-packages\\pandas\\core\\internals\\construction.py:674\u001b[0m, in \u001b[0;36m_extract_index\u001b[1;34m(data)\u001b[0m\n\u001b[0;32m    672\u001b[0m lengths \u001b[38;5;241m=\u001b[39m \u001b[38;5;28mlist\u001b[39m(\u001b[38;5;28mset\u001b[39m(raw_lengths))\n\u001b[0;32m    673\u001b[0m \u001b[38;5;28;01mif\u001b[39;00m \u001b[38;5;28mlen\u001b[39m(lengths) \u001b[38;5;241m>\u001b[39m \u001b[38;5;241m1\u001b[39m:\n\u001b[1;32m--> 674\u001b[0m     \u001b[38;5;28;01mraise\u001b[39;00m \u001b[38;5;167;01mValueError\u001b[39;00m(\u001b[38;5;124m\"\u001b[39m\u001b[38;5;124mAll arrays must be of the same length\u001b[39m\u001b[38;5;124m\"\u001b[39m)\n\u001b[0;32m    676\u001b[0m \u001b[38;5;28;01mif\u001b[39;00m have_dicts:\n\u001b[0;32m    677\u001b[0m     \u001b[38;5;28;01mraise\u001b[39;00m \u001b[38;5;167;01mValueError\u001b[39;00m(\n\u001b[0;32m    678\u001b[0m         \u001b[38;5;124m\"\u001b[39m\u001b[38;5;124mMixing dicts with non-Series may lead to ambiguous ordering.\u001b[39m\u001b[38;5;124m\"\u001b[39m\n\u001b[0;32m    679\u001b[0m     )\n",
      "\u001b[1;31mValueError\u001b[0m: All arrays must be of the same length"
     ]
    }
   ],
   "source": [
    "import bestlabrat as blr\n",
    "values_col, obs = blr.get_data(\"../datasets/017DataFile.csv\")\n",
    "print(values_col)\n",
    "strains = blr.get_strains(obs)\n",
    "#print(strains)\n",
    "sexes = blr.get_sexes(obs)\n",
    "#print(sexes)\n",
    "final_data = blr.tidy_data(values_col,strain,sexes)"
   ]
  },
  {
   "cell_type": "markdown",
   "id": "9e283349",
   "metadata": {},
   "source": [
    "## A note on recycling code\n",
    "\n",
    "We have learned early in our journey towards Data Science that it is convenient to keep helpful code around and recycle it. So far, we have learned of at least three ways to recycle code:\n",
    "  \n",
    "  - *Loops.* Loops facilitate reusing hundreds of operations. Loops allow repeating the same operations over and over avoiding actually copying and pasting the same lines of code.\n",
    "  \n",
    "  - *Functions.* Functions facilitate reusing hundreds of lines of code. Functions allow reusing the same lines of code for different instances ofthe same situation. \n",
    "  \n",
    "  - *Modules.* Modules allow facilitates reusing hundreds of functions. Modules provide a convenient way to save good work, functions, in an accessible file. Module files can be loaded the, or better imported in the current working python stack and that allow accessing and using the functions saved in the module."
   ]
  },
  {
   "cell_type": "code",
   "execution_count": null,
   "id": "70b0ed22",
   "metadata": {},
   "outputs": [],
   "source": [
    "# def\n",
    "#  x = 5 vs. def (x =5)\n",
    "# define function tutoial"
   ]
  }
 ],
 "metadata": {
  "kernelspec": {
   "display_name": "Python 3 (ipykernel)",
   "language": "python",
   "name": "python3"
  },
  "language_info": {
   "codemirror_mode": {
    "name": "ipython",
    "version": 3
   },
   "file_extension": ".py",
   "mimetype": "text/x-python",
   "name": "python",
   "nbconvert_exporter": "python",
   "pygments_lexer": "ipython3",
   "version": "3.9.12"
  }
 },
 "nbformat": 4,
 "nbformat_minor": 5
}
